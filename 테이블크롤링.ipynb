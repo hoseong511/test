{
 "cells": [
  {
   "cell_type": "code",
   "execution_count": 1,
   "metadata": {},
   "outputs": [],
   "source": [
    "import pandas as pd"
   ]
  },
  {
   "cell_type": "code",
   "execution_count": 12,
   "metadata": {},
   "outputs": [
    {
     "data": {
      "text/html": [
       "<div>\n",
       "<style scoped>\n",
       "    .dataframe tbody tr th:only-of-type {\n",
       "        vertical-align: middle;\n",
       "    }\n",
       "\n",
       "    .dataframe tbody tr th {\n",
       "        vertical-align: top;\n",
       "    }\n",
       "\n",
       "    .dataframe thead th {\n",
       "        text-align: right;\n",
       "    }\n",
       "</style>\n",
       "<table border=\"1\" class=\"dataframe\">\n",
       "  <thead>\n",
       "    <tr style=\"text-align: right;\">\n",
       "      <th></th>\n",
       "      <th>0</th>\n",
       "    </tr>\n",
       "  </thead>\n",
       "  <tbody>\n",
       "    <tr>\n",
       "      <th>0</th>\n",
       "      <td>c</td>\n",
       "    </tr>\n",
       "    <tr>\n",
       "      <th>1</th>\n",
       "      <td>o</td>\n",
       "    </tr>\n",
       "    <tr>\n",
       "      <th>2</th>\n",
       "      <td>l</td>\n",
       "    </tr>\n",
       "  </tbody>\n",
       "</table>\n",
       "</div>"
      ],
      "text/plain": [
       "   0\n",
       "0  c\n",
       "1  o\n",
       "2  l"
      ]
     },
     "execution_count": 12,
     "metadata": {},
     "output_type": "execute_result"
    }
   ],
   "source": [
    "rowList = []\n",
    "columnList1 = [\"101\", \"aaa\"]\n",
    "columnList2 = [\"102\", \"bbb\"]\n",
    "columnList3 = [\"103\", \"ccc\"]\n",
    "for i in range(0, 3):\n",
    "    columnList\n",
    "    rowList.append(columnList[i])\n",
    "\n",
    "pd.DataFrame(rowList)"
   ]
  },
  {
   "cell_type": "markdown",
   "metadata": {},
   "source": [
    "### 1. 테이블 검색"
   ]
  },
  {
   "cell_type": "code",
   "execution_count": 13,
   "metadata": {},
   "outputs": [],
   "source": [
    "import pandas as pd\n"
   ]
  },
  {
   "cell_type": "code",
   "execution_count": 15,
   "metadata": {},
   "outputs": [],
   "source": [
    "import requests, bs4"
   ]
  },
  {
   "cell_type": "code",
   "execution_count": 22,
   "metadata": {},
   "outputs": [],
   "source": [
    "url = \"https://sparkkorea.com/%ed%85%8c%ec%8a%a4%ed%8a%b8/\"\n",
    "resp = requests.get(url)\n",
    "resp.encoding = 'utf-8'\n",
    "data = resp.text\n",
    "bs = bs4.BeautifulSoup(data,'html.parser')\n",
    "\n",
    "tableTag = bs.find(name = \"table\",\n",
    "                  attrs = {\"id\": 'test_table'})\n",
    "trTags = tableTag.find(name = \"tbody\").findAll(name = \"tr\")\n",
    "rawList=[]\n",
    "columnList=[]"
   ]
  },
  {
   "cell_type": "code",
   "execution_count": 28,
   "metadata": {},
   "outputs": [
    {
     "name": "stdout",
     "output_type": "stream",
     "text": [
      "td\n"
     ]
    }
   ],
   "source": [
    "# 첫 행 디버깅\n",
    "\n",
    "column = trTags[0].findAll(name = \"td\")\n",
    "\n",
    "# column의 태그 이름을 찾기 \n",
    "print(column[0].name)\n",
    "\n",
    "columnLen = len(column)\n",
    "rowCnt = len(trTags)\n",
    "# for i in range(0, ):\n"
   ]
  },
  {
   "cell_type": "code",
   "execution_count": null,
   "metadata": {},
   "outputs": [],
   "source": [
    "\n"
   ]
  }
 ],
 "metadata": {
  "kernelspec": {
   "display_name": "Python 3",
   "language": "python",
   "name": "python3"
  },
  "language_info": {
   "codemirror_mode": {
    "name": "ipython",
    "version": 3
   },
   "file_extension": ".py",
   "mimetype": "text/x-python",
   "name": "python",
   "nbconvert_exporter": "python",
   "pygments_lexer": "ipython3",
   "version": "3.7.6"
  }
 },
 "nbformat": 4,
 "nbformat_minor": 4
}
