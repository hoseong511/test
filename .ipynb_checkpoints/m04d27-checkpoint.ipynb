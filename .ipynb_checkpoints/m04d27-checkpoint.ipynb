{
 "cells": [
  {
   "cell_type": "code",
   "execution_count": 5,
   "metadata": {},
   "outputs": [
    {
     "ename": "SyntaxError",
     "evalue": "invalid syntax (<ipython-input-5-269d8e2c145a>, line 30)",
     "output_type": "error",
     "traceback": [
      "\u001b[1;36m  File \u001b[1;32m\"<ipython-input-5-269d8e2c145a>\"\u001b[1;36m, line \u001b[1;32m30\u001b[0m\n\u001b[1;33m    }\u001b[0m\n\u001b[1;37m    ^\u001b[0m\n\u001b[1;31mSyntaxError\u001b[0m\u001b[1;31m:\u001b[0m invalid syntax\n"
     ]
    }
   ],
   "source": [
    "# <공공데이터 사이트의 시스템오류로 서비스인증키의 SERVICEKEY IS NOT REGIST ERROR 라는 에러 발생>\n",
    "# 교안의 서비스인증키를 이용했습니다.\n",
    "# 라이브러리 선언\n",
    "import requests # 접속을 요청할 라이르러리\n",
    "from lxml import html # xml형식의 데이터를 가져 올 때\n",
    "from bs4 import BeautifulSoup\n",
    "import pandas as pd\n",
    "from urllib.request import Request, urlopen  # 인증키 및 url 인코딩할 라이브러리\n",
    "from urllib.parse import urlencode, quote_plus, unquote\n",
    "\n",
    "# 미세먼지 경보 정보 조회 서비스\n",
    "url = 'http://openapi.airkorea.or.kr/openapi/services/rest/ArpltnInforInqireSvc/'\n",
    "\n",
    "# 오퍼레이션 목록 기입 -> 연도별 미세먼지 경보 정보 조회하는 서비스\n",
    "operationName = 'getUlfptcaAlarmInfo'\n",
    "\n",
    "# 현재 연도를 구하는 라이브러리\n",
    "import datetime\n",
    "year = datetime.now().year\n",
    "print(year)\n",
    "\n",
    "# 교안의 서비스키\n",
    "API_Key = unquote('AT33s775KYpJOkUBJu0dxkJuUeIfDIOJRzAH084EQS3JN%2BzFjErLHuk%2FGZa9L4gBTSGCzeA69tI9PwLp7B37IQ%3D%3D')\n",
    "\n",
    "queryParams = '?' + urlencode(    \n",
    "{\n",
    "    quote_plus('ServiceKey') : API_Key,\n",
    "    quotr_plus('year') : \n",
    "\n",
    "}\n",
    ")\n",
    "resp = requests.get(url+operationName +queryParams)\n",
    "resp.encoding = 'utf-8'\n",
    "resp.url\n",
    "data = BeautifulSoup(resp.text,'lxml-xml')\n",
    "data\n"
   ]
  },
  {
   "cell_type": "code",
   "execution_count": 6,
   "metadata": {},
   "outputs": [
    {
     "data": {
      "text/html": [
       "<div>\n",
       "<style scoped>\n",
       "    .dataframe tbody tr th:only-of-type {\n",
       "        vertical-align: middle;\n",
       "    }\n",
       "\n",
       "    .dataframe tbody tr th {\n",
       "        vertical-align: top;\n",
       "    }\n",
       "\n",
       "    .dataframe thead th {\n",
       "        text-align: right;\n",
       "    }\n",
       "</style>\n",
       "<table border=\"1\" class=\"dataframe\">\n",
       "  <thead>\n",
       "    <tr style=\"text-align: right;\">\n",
       "      <th></th>\n",
       "      <th>0</th>\n",
       "      <th>1</th>\n",
       "      <th>2</th>\n",
       "      <th>3</th>\n",
       "      <th>4</th>\n",
       "      <th>5</th>\n",
       "    </tr>\n",
       "  </thead>\n",
       "  <tbody>\n",
       "    <tr>\n",
       "      <th>0</th>\n",
       "      <td>82,500</td>\n",
       "      <td>2008</td>\n",
       "      <td>82,500</td>\n",
       "      <td>2008</td>\n",
       "      <td>82,500</td>\n",
       "      <td>2008</td>\n",
       "    </tr>\n",
       "    <tr>\n",
       "      <th>1</th>\n",
       "      <td>82,500</td>\n",
       "      <td>2008</td>\n",
       "      <td>82,500</td>\n",
       "      <td>2008</td>\n",
       "      <td>82,500</td>\n",
       "      <td>2008</td>\n",
       "    </tr>\n",
       "    <tr>\n",
       "      <th>2</th>\n",
       "      <td>82,500</td>\n",
       "      <td>2008</td>\n",
       "      <td>82,500</td>\n",
       "      <td>2008</td>\n",
       "      <td>82,500</td>\n",
       "      <td>2008</td>\n",
       "    </tr>\n",
       "  </tbody>\n",
       "</table>\n",
       "</div>"
      ],
      "text/plain": [
       "        0     1       2     3       4     5\n",
       "0  82,500  2008  82,500  2008  82,500  2008\n",
       "1  82,500  2008  82,500  2008  82,500  2008\n",
       "2  82,500  2008  82,500  2008  82,500  2008"
      ]
     },
     "execution_count": 6,
     "metadata": {},
     "output_type": "execute_result"
    }
   ],
   "source": [
    "# import pandas as pd\n",
    "\n",
    "# rowList=[]\n",
    "\n",
    "# for j in range( 0 ,3):\n",
    "#     columnList = []\n",
    "#     for i in range(0, 3):\n",
    "#         columnList.append(\"82,500\")\n",
    "#         columnList.append(\"2008\")\n",
    "    \n",
    "#     rowList.append(columnList)\n",
    "\n",
    "# pd.DataFrame(data = rowList)"
   ]
  },
  {
   "cell_type": "code",
   "execution_count": 7,
   "metadata": {},
   "outputs": [
    {
     "name": "stdout",
     "output_type": "stream",
     "text": [
      "Collecting lxml\n",
      "  Downloading lxml-4.5.0-cp37-cp37m-win_amd64.whl (3.7 MB)\n",
      "Installing collected packages: lxml\n",
      "  Attempting uninstall: lxml\n",
      "    Found existing installation: lxml 4.5.0\n",
      "    Uninstalling lxml-4.5.0:\n",
      "      Successfully uninstalled lxml-4.5.0\n",
      "Successfully installed lxml-4.5.0\n",
      "Note: you may need to restart the kernel to use updated packages.\n"
     ]
    }
   ],
   "source": [
    "pip install lxml --force -U"
   ]
  },
  {
   "cell_type": "code",
   "execution_count": 1,
   "metadata": {},
   "outputs": [
    {
     "data": {
      "text/plain": [
       "<?xml version=\"1.0\" encoding=\"utf-8\"?>\n",
       "<response><header><resultCode>99</resultCode><resultMsg>SERVICE KEY IS NOT REGISTERED ERROR.</resultMsg></header></response>"
      ]
     },
     "execution_count": 1,
     "metadata": {},
     "output_type": "execute_result"
    }
   ],
   "source": [
    "import requests # 사이트에 요청을 해서 데이터를 받아 올 라이브러리\n",
    "from lxml import html # xml형식의 데이터를 가져 올 때\n",
    "from bs4 import BeautifulSoup\n",
    "import pandas as pd\n",
    "from urllib.request import Request, urlopen\n",
    "from urllib.parse import urlencode, quote_plus, unquote\n",
    "\n",
    "url = 'http://openapi.molit.go.kr/OpenAPI_ToolInstallPackage/service/rest/RTMSOBJSvc/getRTMSDataSvcAptTradeDev'\n",
    "url1 = 'http://openapi.airkorea.or.kr/openapi/services/rest/MsrstnInfoInqireSvc/getMsrstnList'\n",
    "API_key = unquote('HBnpiSJNbx4diCJyVVmvzl0xvNY1Qk645qfE8svjR330eWTU+F0SojVMGdE66jPVCQRMdi1v5lTq1OU5XgOTpw==')\n",
    "queryParams = \"?\" + urlencode(\n",
    "    {\n",
    "        quote_plus('ServiceKey') : API_key,\n",
    "        quote_plus('LAWD_CD') : '11110',\n",
    "        quote_plus('DEAL_YMD') : '201512'\n",
    "#         quote_plus('addr') : '서울',\n",
    "#         quote_plus('stationName') : '종로구',\n",
    "#         quote_plus('pageNo') : '1',\n",
    "#         quote_plus('numOfRow') : '10',\n",
    "        \n",
    "    \n",
    "    }\n",
    ")\n",
    "resp = requests.get(url +queryParams)\n",
    "resp.encoding = 'utf-8'\n",
    "resp.url\n",
    "data = BeautifulSoup(resp.text,'lxml-xml')\n",
    "data\n",
    "# request = Request(url1 + queryParams)\n",
    "# request.get_method = lambda: 'GET'\n",
    "# response_body = urlopen(request).read()\n",
    "# print (response_body)"
   ]
  },
  {
   "cell_type": "code",
   "execution_count": 65,
   "metadata": {},
   "outputs": [
    {
     "name": "stdout",
     "output_type": "stream",
     "text": [
      "10\n",
      "년\n"
     ]
    },
    {
     "data": {
      "text/html": [
       "<div>\n",
       "<style scoped>\n",
       "    .dataframe tbody tr th:only-of-type {\n",
       "        vertical-align: middle;\n",
       "    }\n",
       "\n",
       "    .dataframe tbody tr th {\n",
       "        vertical-align: top;\n",
       "    }\n",
       "\n",
       "    .dataframe thead th {\n",
       "        text-align: right;\n",
       "    }\n",
       "</style>\n",
       "<table border=\"1\" class=\"dataframe\">\n",
       "  <thead>\n",
       "    <tr style=\"text-align: right;\">\n",
       "      <th></th>\n",
       "      <th>거래금액</th>\n",
       "      <th>건축년도</th>\n",
       "      <th>년</th>\n",
       "      <th>도로명</th>\n",
       "      <th>도로명건물본번호코드</th>\n",
       "      <th>도로명건물부번호코드</th>\n",
       "      <th>도로명시군구코드</th>\n",
       "      <th>도로명일련번호코드</th>\n",
       "      <th>도로명지상지하코드</th>\n",
       "      <th>도로명코드</th>\n",
       "      <th>...</th>\n",
       "      <th>법정동읍면동코드</th>\n",
       "      <th>법정동지번코드</th>\n",
       "      <th>아파트</th>\n",
       "      <th>월</th>\n",
       "      <th>일</th>\n",
       "      <th>일련번호</th>\n",
       "      <th>전용면적</th>\n",
       "      <th>지번</th>\n",
       "      <th>지역코드</th>\n",
       "      <th>층</th>\n",
       "    </tr>\n",
       "  </thead>\n",
       "  <tbody>\n",
       "    <tr>\n",
       "      <th>0</th>\n",
       "      <td>82,500</td>\n",
       "      <td>2008</td>\n",
       "      <td>2015</td>\n",
       "      <td>사직로8길</td>\n",
       "      <td>00004</td>\n",
       "      <td>00000</td>\n",
       "      <td>11110</td>\n",
       "      <td>03</td>\n",
       "      <td>0</td>\n",
       "      <td>4100135</td>\n",
       "      <td>...</td>\n",
       "      <td>11500</td>\n",
       "      <td>1</td>\n",
       "      <td>광화문풍림스페이스본(101동~105동)</td>\n",
       "      <td>12</td>\n",
       "      <td>10</td>\n",
       "      <td>11110-2203</td>\n",
       "      <td>94.51</td>\n",
       "      <td>9</td>\n",
       "      <td>11110</td>\n",
       "      <td>11</td>\n",
       "    </tr>\n",
       "    <tr>\n",
       "      <th>1</th>\n",
       "      <td>60,000</td>\n",
       "      <td>1981</td>\n",
       "      <td>2015</td>\n",
       "      <td>세종대로23길</td>\n",
       "      <td>00047</td>\n",
       "      <td>00000</td>\n",
       "      <td>11110</td>\n",
       "      <td>02</td>\n",
       "      <td>0</td>\n",
       "      <td>4100190</td>\n",
       "      <td>...</td>\n",
       "      <td>11700</td>\n",
       "      <td>1</td>\n",
       "      <td>롯데미도파광화문빌딩</td>\n",
       "      <td>12</td>\n",
       "      <td>22</td>\n",
       "      <td>11110-12</td>\n",
       "      <td>149.95</td>\n",
       "      <td>145</td>\n",
       "      <td>11110</td>\n",
       "      <td>8</td>\n",
       "    </tr>\n",
       "    <tr>\n",
       "      <th>2</th>\n",
       "      <td>130,000</td>\n",
       "      <td>2004</td>\n",
       "      <td>2015</td>\n",
       "      <td>경희궁2길</td>\n",
       "      <td>00005</td>\n",
       "      <td>00005</td>\n",
       "      <td>11110</td>\n",
       "      <td>01</td>\n",
       "      <td>0</td>\n",
       "      <td>4100005</td>\n",
       "      <td>...</td>\n",
       "      <td>11800</td>\n",
       "      <td>1</td>\n",
       "      <td>킹스매너</td>\n",
       "      <td>12</td>\n",
       "      <td>8</td>\n",
       "      <td>11110-118</td>\n",
       "      <td>194.43</td>\n",
       "      <td>110-15</td>\n",
       "      <td>11110</td>\n",
       "      <td>6</td>\n",
       "    </tr>\n",
       "    <tr>\n",
       "      <th>3</th>\n",
       "      <td>105,000</td>\n",
       "      <td>2004</td>\n",
       "      <td>2015</td>\n",
       "      <td>사직로8길</td>\n",
       "      <td>00024</td>\n",
       "      <td>00000</td>\n",
       "      <td>11110</td>\n",
       "      <td>05</td>\n",
       "      <td>0</td>\n",
       "      <td>4100135</td>\n",
       "      <td>...</td>\n",
       "      <td>11800</td>\n",
       "      <td>1</td>\n",
       "      <td>경희궁의아침2단지</td>\n",
       "      <td>12</td>\n",
       "      <td>14</td>\n",
       "      <td>11110-115</td>\n",
       "      <td>124.17</td>\n",
       "      <td>71</td>\n",
       "      <td>11110</td>\n",
       "      <td>8</td>\n",
       "    </tr>\n",
       "    <tr>\n",
       "      <th>4</th>\n",
       "      <td>120,000</td>\n",
       "      <td>2003</td>\n",
       "      <td>2015</td>\n",
       "      <td>사직로8길</td>\n",
       "      <td>00020</td>\n",
       "      <td>00000</td>\n",
       "      <td>11110</td>\n",
       "      <td>05</td>\n",
       "      <td>0</td>\n",
       "      <td>4100135</td>\n",
       "      <td>...</td>\n",
       "      <td>11800</td>\n",
       "      <td>1</td>\n",
       "      <td>경희궁 파크팰리스</td>\n",
       "      <td>12</td>\n",
       "      <td>24</td>\n",
       "      <td>11110-107</td>\n",
       "      <td>146.33</td>\n",
       "      <td>95</td>\n",
       "      <td>11110</td>\n",
       "      <td>4</td>\n",
       "    </tr>\n",
       "    <tr>\n",
       "      <th>5</th>\n",
       "      <td>17,000</td>\n",
       "      <td>2014</td>\n",
       "      <td>2015</td>\n",
       "      <td>대학로</td>\n",
       "      <td>00047</td>\n",
       "      <td>00000</td>\n",
       "      <td>11110</td>\n",
       "      <td>05</td>\n",
       "      <td>0</td>\n",
       "      <td>3100002</td>\n",
       "      <td>...</td>\n",
       "      <td>16600</td>\n",
       "      <td>1</td>\n",
       "      <td>이화에수풀</td>\n",
       "      <td>12</td>\n",
       "      <td>17</td>\n",
       "      <td>11110-2359</td>\n",
       "      <td>16.98</td>\n",
       "      <td>195-10</td>\n",
       "      <td>11110</td>\n",
       "      <td>8</td>\n",
       "    </tr>\n",
       "    <tr>\n",
       "      <th>6</th>\n",
       "      <td>17,000</td>\n",
       "      <td>2014</td>\n",
       "      <td>2015</td>\n",
       "      <td>대학로</td>\n",
       "      <td>00047</td>\n",
       "      <td>00000</td>\n",
       "      <td>11110</td>\n",
       "      <td>05</td>\n",
       "      <td>0</td>\n",
       "      <td>3100002</td>\n",
       "      <td>...</td>\n",
       "      <td>16600</td>\n",
       "      <td>1</td>\n",
       "      <td>이화에수풀</td>\n",
       "      <td>12</td>\n",
       "      <td>18</td>\n",
       "      <td>11110-2359</td>\n",
       "      <td>16.98</td>\n",
       "      <td>195-10</td>\n",
       "      <td>11110</td>\n",
       "      <td>4</td>\n",
       "    </tr>\n",
       "    <tr>\n",
       "      <th>7</th>\n",
       "      <td>57,000</td>\n",
       "      <td>2006</td>\n",
       "      <td>2015</td>\n",
       "      <td>혜화로3가길</td>\n",
       "      <td>00030</td>\n",
       "      <td>00000</td>\n",
       "      <td>11110</td>\n",
       "      <td>01</td>\n",
       "      <td>0</td>\n",
       "      <td>4100544</td>\n",
       "      <td>...</td>\n",
       "      <td>17000</td>\n",
       "      <td>1</td>\n",
       "      <td>렉스빌</td>\n",
       "      <td>12</td>\n",
       "      <td>29</td>\n",
       "      <td>11110-973</td>\n",
       "      <td>106.98</td>\n",
       "      <td>19</td>\n",
       "      <td>11110</td>\n",
       "      <td>3</td>\n",
       "    </tr>\n",
       "    <tr>\n",
       "      <th>8</th>\n",
       "      <td>44,000</td>\n",
       "      <td>1995</td>\n",
       "      <td>2015</td>\n",
       "      <td>창경궁로</td>\n",
       "      <td>00265</td>\n",
       "      <td>00000</td>\n",
       "      <td>11110</td>\n",
       "      <td>07</td>\n",
       "      <td>0</td>\n",
       "      <td>3005008</td>\n",
       "      <td>...</td>\n",
       "      <td>17100</td>\n",
       "      <td>1</td>\n",
       "      <td>아남1</td>\n",
       "      <td>12</td>\n",
       "      <td>1</td>\n",
       "      <td>11110-25</td>\n",
       "      <td>84.8</td>\n",
       "      <td>4</td>\n",
       "      <td>11110</td>\n",
       "      <td>18</td>\n",
       "    </tr>\n",
       "    <tr>\n",
       "      <th>9</th>\n",
       "      <td>52,000</td>\n",
       "      <td>1995</td>\n",
       "      <td>2015</td>\n",
       "      <td>창경궁로</td>\n",
       "      <td>00265</td>\n",
       "      <td>00000</td>\n",
       "      <td>11110</td>\n",
       "      <td>07</td>\n",
       "      <td>0</td>\n",
       "      <td>3005008</td>\n",
       "      <td>...</td>\n",
       "      <td>17100</td>\n",
       "      <td>1</td>\n",
       "      <td>아남1</td>\n",
       "      <td>12</td>\n",
       "      <td>10</td>\n",
       "      <td>11110-25</td>\n",
       "      <td>84.9</td>\n",
       "      <td>4</td>\n",
       "      <td>11110</td>\n",
       "      <td>12</td>\n",
       "    </tr>\n",
       "  </tbody>\n",
       "</table>\n",
       "<p>10 rows × 24 columns</p>\n",
       "</div>"
      ],
      "text/plain": [
       "         거래금액  건축년도     년      도로명 도로명건물본번호코드 도로명건물부번호코드 도로명시군구코드 도로명일련번호코드  \\\n",
       "0      82,500  2008  2015    사직로8길      00004      00000    11110        03   \n",
       "1      60,000  1981  2015  세종대로23길      00047      00000    11110        02   \n",
       "2     130,000  2004  2015    경희궁2길      00005      00005    11110        01   \n",
       "3     105,000  2004  2015    사직로8길      00024      00000    11110        05   \n",
       "4     120,000  2003  2015    사직로8길      00020      00000    11110        05   \n",
       "5      17,000  2014  2015      대학로      00047      00000    11110        05   \n",
       "6      17,000  2014  2015      대학로      00047      00000    11110        05   \n",
       "7      57,000  2006  2015   혜화로3가길      00030      00000    11110        01   \n",
       "8      44,000  1995  2015     창경궁로      00265      00000    11110        07   \n",
       "9      52,000  1995  2015     창경궁로      00265      00000    11110        07   \n",
       "\n",
       "  도로명지상지하코드    도로명코드  ... 법정동읍면동코드 법정동지번코드                    아파트   월   일  \\\n",
       "0         0  4100135  ...    11500       1  광화문풍림스페이스본(101동~105동)  12  10   \n",
       "1         0  4100190  ...    11700       1             롯데미도파광화문빌딩  12  22   \n",
       "2         0  4100005  ...    11800       1                   킹스매너  12   8   \n",
       "3         0  4100135  ...    11800       1              경희궁의아침2단지  12  14   \n",
       "4         0  4100135  ...    11800       1              경희궁 파크팰리스  12  24   \n",
       "5         0  3100002  ...    16600       1                  이화에수풀  12  17   \n",
       "6         0  3100002  ...    16600       1                  이화에수풀  12  18   \n",
       "7         0  4100544  ...    17000       1                    렉스빌  12  29   \n",
       "8         0  3005008  ...    17100       1                    아남1  12   1   \n",
       "9         0  3005008  ...    17100       1                    아남1  12  10   \n",
       "\n",
       "         일련번호    전용면적      지번   지역코드   층  \n",
       "0  11110-2203   94.51       9  11110  11  \n",
       "1    11110-12  149.95     145  11110   8  \n",
       "2   11110-118  194.43  110-15  11110   6  \n",
       "3   11110-115  124.17      71  11110   8  \n",
       "4   11110-107  146.33      95  11110   4  \n",
       "5  11110-2359   16.98  195-10  11110   8  \n",
       "6  11110-2359   16.98  195-10  11110   4  \n",
       "7   11110-973  106.98      19  11110   3  \n",
       "8    11110-25    84.8       4  11110  18  \n",
       "9    11110-25    84.9       4  11110  12  \n",
       "\n",
       "[10 rows x 24 columns]"
      ]
     },
     "execution_count": 65,
     "metadata": {},
     "output_type": "execute_result"
    }
   ],
   "source": [
    "# 라이브러리 선언\n",
    "import requests # 사이트에 요청을 해서 데이터를 받아 올 라이브러리\n",
    "from lxml import html # xml형식의 데이터를 가져 올 때\n",
    "from bs4 import BeautifulSoup\n",
    "import pandas as pd\n",
    "\n",
    "url = 'http://openapi.molit.go.kr/OpenAPI_ToolInstallPackage/service/rest/RTMSOBJSvc/getRTMSDataSvcAptTradeDev?LAWD_CD=11110&DEAL_YMD=201512&serviceKey=AT33s775KYpJOkUBJu0dxkJuUeIfDIOJRzAH084EQS3JN%2BzFjErLHuk%2FGZa9L4gBTSGCzeA69tI9PwLp7B37IQ%3D%3D'\n",
    "resp = requests.get(url)\n",
    "resp.encoding = 'utf-8'\n",
    "\n",
    "# 행을 담을 리스트와 이름을 담을 리스트\n",
    "rowList = []\n",
    "nameList = []\n",
    "\n",
    "\n",
    "xmlobj = BeautifulSoup(resp.text,'lxml-xml')\n",
    "xmlobj\n",
    "rows = xmlobj.findAll(name = 'item')\n",
    "print(len(rows))\n",
    "print(rows[0].findAll()[2].name)\n",
    "for j in range(0,len(rows)):\n",
    "    columns = rows[j].findAll()\n",
    "    columnList = []\n",
    "    for i in range (0, len(columns)):        \n",
    "        if j == 0:\n",
    "            nameList.append(columns[i].name)\n",
    "        columnList.append(columns[i].text)\n",
    "        \n",
    "    rowList.append(columnList)\n",
    "        \n",
    "pd.DataFrame(rowList,columns = nameList)    "
   ]
  },
  {
   "cell_type": "code",
   "execution_count": null,
   "metadata": {},
   "outputs": [],
   "source": [
    "for eachRow in rows:\n",
    "    columns = eachRow.findAll()"
   ]
  },
  {
   "cell_type": "code",
   "execution_count": 3,
   "metadata": {},
   "outputs": [],
   "source": [
    "import pandas as pd\n",
    "import matplotlib.pyplot as plt\n",
    "%matplotlib inline"
   ]
  },
  {
   "cell_type": "code",
   "execution_count": 4,
   "metadata": {},
   "outputs": [
    {
     "data": {
      "text/html": [
       "<div>\n",
       "<style scoped>\n",
       "    .dataframe tbody tr th:only-of-type {\n",
       "        vertical-align: middle;\n",
       "    }\n",
       "\n",
       "    .dataframe tbody tr th {\n",
       "        vertical-align: top;\n",
       "    }\n",
       "\n",
       "    .dataframe thead th {\n",
       "        text-align: right;\n",
       "    }\n",
       "</style>\n",
       "<table border=\"1\" class=\"dataframe\">\n",
       "  <thead>\n",
       "    <tr style=\"text-align: right;\">\n",
       "      <th></th>\n",
       "      <th>REGIONID</th>\n",
       "      <th>PRODUCTGROUP</th>\n",
       "      <th>WEEK</th>\n",
       "      <th>MEAN_VOLUME</th>\n",
       "    </tr>\n",
       "  </thead>\n",
       "  <tbody>\n",
       "    <tr>\n",
       "      <th>0</th>\n",
       "      <td>A01</td>\n",
       "      <td>ST0001</td>\n",
       "      <td>1</td>\n",
       "      <td>559479</td>\n",
       "    </tr>\n",
       "    <tr>\n",
       "      <th>1</th>\n",
       "      <td>A01</td>\n",
       "      <td>ST0001</td>\n",
       "      <td>2</td>\n",
       "      <td>483233</td>\n",
       "    </tr>\n",
       "    <tr>\n",
       "      <th>2</th>\n",
       "      <td>A01</td>\n",
       "      <td>ST0001</td>\n",
       "      <td>3</td>\n",
       "      <td>457317</td>\n",
       "    </tr>\n",
       "    <tr>\n",
       "      <th>3</th>\n",
       "      <td>A01</td>\n",
       "      <td>ST0001</td>\n",
       "      <td>4</td>\n",
       "      <td>500629</td>\n",
       "    </tr>\n",
       "    <tr>\n",
       "      <th>4</th>\n",
       "      <td>A01</td>\n",
       "      <td>ST0001</td>\n",
       "      <td>5</td>\n",
       "      <td>541937</td>\n",
       "    </tr>\n",
       "  </tbody>\n",
       "</table>\n",
       "</div>"
      ],
      "text/plain": [
       "  REGIONID PRODUCTGROUP  WEEK  MEAN_VOLUME\n",
       "0      A01       ST0001     1       559479\n",
       "1      A01       ST0001     2       483233\n",
       "2      A01       ST0001     3       457317\n",
       "3      A01       ST0001     4       500629\n",
       "4      A01       ST0001     5       541937"
      ]
     },
     "execution_count": 4,
     "metadata": {},
     "output_type": "execute_result"
    }
   ],
   "source": [
    "file1 = pd.read_csv('./dataset/st0001data.csv')\n",
    "file2 = pd.read_csv('./dataset/st0002data.csv')\n",
    "file1.head()"
   ]
  },
  {
   "cell_type": "code",
   "execution_count": 22,
   "metadata": {},
   "outputs": [
    {
     "data": {
      "text/plain": [
       "<matplotlib.legend.Legend at 0x23178419b48>"
      ]
     },
     "execution_count": 22,
     "metadata": {},
     "output_type": "execute_result"
    },
    {
     "data": {
      "image/png": "[encoded data removed]",
      "text/plain": [
       "<Figure size 432x288 with 1 Axes>"
      ]
     },
     "metadata": {
      "needs_background": "light"
     },
     "output_type": "display_data"
    }
   ],
   "source": [
    "x = file1.WEEK\n",
    "y = file1.MEAN_VOLUME\n",
    "y2 = file2.MEAN_VOLUME\n",
    "\n",
    "plt.xticks(range(min(x),max(x),3))\n",
    "# plt.plot(x,y)\n",
    "plt.xlabel(\"week\")\n",
    "plt.ylabel(\"avg_volume\")\n",
    "plt.title(\"weekly trend\")\n",
    "plt.plot(x,y, \"go--\", label = \"ST0001\") # 속성부여\n",
    "plt.plot(x,y2,\"bo-\",label = \"ST0002\")\n",
    "plt.legend(loc = 0)"
   ]
  },
  {
   "cell_type": "code",
   "execution_count": 8,
   "metadata": {},
   "outputs": [],
   "source": [
    "import pandas as pd\n",
    "import matplotlib.pyplot as plt\n",
    "%matplotlib inline\n"
   ]
  },
  {
   "cell_type": "code",
   "execution_count": 19,
   "metadata": {},
   "outputs": [
    {
     "data": {
      "text/html": [
       "<div>\n",
       "<style scoped>\n",
       "    .dataframe tbody tr th:only-of-type {\n",
       "        vertical-align: middle;\n",
       "    }\n",
       "\n",
       "    .dataframe tbody tr th {\n",
       "        vertical-align: top;\n",
       "    }\n",
       "\n",
       "    .dataframe thead th {\n",
       "        text-align: right;\n",
       "    }\n",
       "</style>\n",
       "<table border=\"1\" class=\"dataframe\">\n",
       "  <thead>\n",
       "    <tr style=\"text-align: right;\">\n",
       "      <th></th>\n",
       "      <th>REGIONID</th>\n",
       "      <th>PRODUCTGROUP</th>\n",
       "      <th>YEARWEEK</th>\n",
       "      <th>VOLUME</th>\n",
       "    </tr>\n",
       "  </thead>\n",
       "  <tbody>\n",
       "    <tr>\n",
       "      <th>0</th>\n",
       "      <td>A01</td>\n",
       "      <td>ST0001</td>\n",
       "      <td>201415</td>\n",
       "      <td>810144</td>\n",
       "    </tr>\n",
       "    <tr>\n",
       "      <th>1</th>\n",
       "      <td>A01</td>\n",
       "      <td>ST0002</td>\n",
       "      <td>201415</td>\n",
       "      <td>128999</td>\n",
       "    </tr>\n",
       "    <tr>\n",
       "      <th>2</th>\n",
       "      <td>A01</td>\n",
       "      <td>ST0001</td>\n",
       "      <td>201418</td>\n",
       "      <td>671464</td>\n",
       "    </tr>\n",
       "    <tr>\n",
       "      <th>3</th>\n",
       "      <td>A01</td>\n",
       "      <td>ST0002</td>\n",
       "      <td>201418</td>\n",
       "      <td>134467</td>\n",
       "    </tr>\n",
       "    <tr>\n",
       "      <th>4</th>\n",
       "      <td>A01</td>\n",
       "      <td>ST0001</td>\n",
       "      <td>201413</td>\n",
       "      <td>470040</td>\n",
       "    </tr>\n",
       "  </tbody>\n",
       "</table>\n",
       "</div>"
      ],
      "text/plain": [
       "  REGIONID PRODUCTGROUP  YEARWEEK  VOLUME\n",
       "0      A01       ST0001    201415  810144\n",
       "1      A01       ST0002    201415  128999\n",
       "2      A01       ST0001    201418  671464\n",
       "3      A01       ST0002    201418  134467\n",
       "4      A01       ST0001    201413  470040"
      ]
     },
     "execution_count": 19,
     "metadata": {},
     "output_type": "execute_result"
    }
   ],
   "source": [
    "data1 = pd.read_csv(\"./dataset/kopo_product_volume.csv\")\n",
    "data1.head()"
   ]
  },
  {
   "cell_type": "code",
   "execution_count": 18,
   "metadata": {},
   "outputs": [
    {
     "data": {
      "text/plain": [
       "[<matplotlib.lines.Line2D at 0x23178160d48>]"
      ]
     },
     "execution_count": 18,
     "metadata": {},
     "output_type": "execute_result"
    },
    {
     "data": {
      "image/png": "[encoded data removed]",
      "text/plain": [
       "<Figure size 432x288 with 1 Axes>"
      ]
     },
     "metadata": {
      "needs_background": "light"
     },
     "output_type": "display_data"
    }
   ],
   "source": [
    "x = data1.YEARWEEK\n",
    "y = data1.VOLUME\n",
    "\n",
    "plt.xticks(range(min(x),max(x),25))\n",
    "plt.plot(x,y)"
   ]
  },
  {
   "cell_type": "code",
   "execution_count": 57,
   "metadata": {},
   "outputs": [],
   "source": [
    "import pandas as pd\n",
    "import matplotlib.pyplot as plt\n",
    "%matplotlib inline"
   ]
  },
  {
   "cell_type": "code",
   "execution_count": 69,
   "metadata": {},
   "outputs": [
    {
     "name": "stderr",
     "output_type": "stream",
     "text": [
      "No handles with labels found to put in legend.\n"
     ]
    },
    {
     "data": {
      "text/plain": [
       "<matplotlib.legend.Legend at 0x2317c597648>"
      ]
     },
     "execution_count": 69,
     "metadata": {},
     "output_type": "execute_result"
    },
    {
     "data": {
      "image/png": "[encoded data removed]",
      "text/plain": [
       "<Figure size 720x576 with 2 Axes>"
      ]
     },
     "metadata": {
      "needs_background": "light"
     },
     "output_type": "display_data"
    }
   ],
   "source": [
    "featuresData = pd.read_csv('./dataset/feature_regression_example.csv')\n",
    "featuresData2015 = featuresData.loc[featuresData.YEAR==2015]\n",
    "\n",
    "x = featuresData2015.WEEK\n",
    "y = featuresData2015.QTY\n",
    "y2 = featuresData2015.PRO_PERCENT\n",
    "fig =plt.figure(figsize = (10,8))\n",
    "\n",
    "ax1 = fig.add_subplot(211)\n",
    "ax1.plot(x,y,'g-' , label = '2015')\n",
    "ax1.legend(loc = 0)\n",
    "\n",
    "ax2 = fig.add_subplot(212)\n",
    "ax2.plot(x,y2,'bo--')\n",
    "ax2.legend(loc = 0)\n",
    "\n"
   ]
  },
  {
   "cell_type": "code",
   "execution_count": null,
   "metadata": {},
   "outputs": [],
   "source": [
    "import matpoltlib.pyplot as plt\n",
    "x = file1.WEEK\n",
    "y = file1.MEAN_VOLUME\n",
    "y2 = file2.MEAN_VOLUME\n",
    "\n"
   ]
  },
  {
   "cell_type": "code",
   "execution_count": null,
   "metadata": {},
   "outputs": [],
   "source": []
  },
  {
   "cell_type": "code",
   "execution_count": 76,
   "metadata": {},
   "outputs": [
    {
     "data": {
      "text/plain": [
       "<matplotlib.legend.Legend at 0x2317cdee888>"
      ]
     },
     "execution_count": 76,
     "metadata": {},
     "output_type": "execute_result"
    },
    {
     "data": {
      "image/png": "[encoded data removed]",
      "text/plain": [
       "<Figure size 1008x288 with 2 Axes>"
      ]
     },
     "metadata": {
      "needs_background": "light"
     },
     "output_type": "display_data"
    }
   ],
   "source": [
    "featuresData = pd.read_csv('./dataset/feature_regression_example.csv')\n",
    "featuresData2015 = featuresData.loc[featuresData.YEAR==2015]\n",
    "\n",
    "x = featuresData2015.WEEK\n",
    "y = featuresData2015.QTY\n",
    "y2 = featuresData2015.PRO_PERCENT\n",
    "fig =plt.figure(figsize = (14,4))\n",
    "\n",
    "ax1 = fig.add_subplot(1,1,1)\n",
    "ax1.plot(x,y,'g-' , label = '2015')\n",
    "ax1.grid(True)\n",
    "ax1.legend(loc = 0)\n",
    "\n",
    "\n",
    "ax2 = ax1.twinx()\n",
    "\n",
    "ax2.plot(x,y2,'bo--', label = 'pro_percent')\n",
    "# ax2.grid(True)\n",
    "\n",
    "ax2.legend(loc = 0)\n",
    "\n"
   ]
  },
  {
   "cell_type": "code",
   "execution_count": 93,
   "metadata": {},
   "outputs": [],
   "source": [
    "st1 = [100, 80, 120 , 98 , 102, 30 ,170]\n",
    "st2 = [ 100, 110, 90, 120, 80 , 95, 105]"
   ]
  },
  {
   "cell_type": "code",
   "execution_count": 79,
   "metadata": {},
   "outputs": [],
   "source": [
    "import matplotlib.pyplot as plt"
   ]
  },
  {
   "cell_type": "code",
   "execution_count": 95,
   "metadata": {},
   "outputs": [
    {
     "name": "stdout",
     "output_type": "stream",
     "text": [
      "100.0 100.0\n"
     ]
    }
   ],
   "source": [
    "x = list(range(0,len(st1)))\n",
    "import numpy as np\n",
    "st1Mean = np.mean(st1)\n",
    "st2Mean = np.mean(st2)\n",
    "print(st1Mean, st2Mean)"
   ]
  },
  {
   "cell_type": "markdown",
   "metadata": {},
   "source": [
    "## 분산과 표준편차"
   ]
  },
  {
   "cell_type": "code",
   "execution_count": 98,
   "metadata": {},
   "outputs": [
    {
     "data": {
      "text/plain": [
       "216.48979591836732"
      ]
     },
     "execution_count": 98,
     "metadata": {},
     "output_type": "execute_result"
    }
   ],
   "source": [
    "np.var(st1)/len(st1)"
   ]
  },
  {
   "cell_type": "code",
   "execution_count": 97,
   "metadata": {},
   "outputs": [
    {
     "name": "stdout",
     "output_type": "stream",
     "text": [
      "1515.4285714285713\n"
     ]
    }
   ],
   "source": [
    "st1Mean = np.mean(st1)\n",
    "st1Len = len(st1)\n",
    "answer = 0\n",
    "for eachitem in st1:\n",
    "    answer = answer + (st1Mean - eachitem)**2\n",
    "\n",
    "    \n",
    "print(answer/ st1Len)"
   ]
  }
 ],
 "metadata": {
  "kernelspec": {
   "display_name": "Python 3",
   "language": "python",
   "name": "python3"
  },
  "language_info": {
   "codemirror_mode": {
    "name": "ipython",
    "version": 3
   },
   "file_extension": ".py",
   "mimetype": "text/x-python",
   "name": "python",
   "nbconvert_exporter": "python",
   "pygments_lexer": "ipython3",
   "version": "3.7.6"
  }
 },
 "nbformat": 4,
 "nbformat_minor": 4
}
