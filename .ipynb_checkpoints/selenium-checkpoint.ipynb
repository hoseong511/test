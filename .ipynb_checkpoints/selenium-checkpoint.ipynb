{
 "cells": [
  {
   "cell_type": "code",
   "execution_count": 3,
   "metadata": {},
   "outputs": [],
   "source": [
    "import bs4,requests\n",
    "import pandas as pd\n",
    "from selenium import webdriver\n",
    "\n",
    "\n",
    "driver_loc = \"C:/Users/Lenovo/pywork/chromedriver/chromedriver.exe\"\n",
    "options = webdriver.ChromeOptions()\n",
    "options.add_argument(\"window-size = 1920x1080\")\n",
    "driver = webdriver.Chrome(driver_loc, options=options)\n",
    "\n",
    "\n",
    "driver.get(\"https://sparkkorea.com/\")\n",
    "import time\n",
    "\n",
    "quizMenuXpath = '//*[@id=\"menu-item-382\"]/a'\n",
    "\n",
    "driver.find_element_by_xpath(quizMenuXpath).click()\n",
    "time.sleep(3)\n",
    "\n",
    "data = driver.page_source\n",
    "\n",
    "\n",
    "bs = bs4.BeautifulSoup(data,'html.parser')\n",
    "\n",
    "divTag = bs.find(name = \"div\",\n",
    "                 attrs = {\"class\" : \"class_spark_quiz\"})\n",
    "\n",
    "aTags = divTag.findAll(name = \"a\")\n",
    "aTagsLen = len(aTags)\n",
    "row = []\n",
    "for i in range(0, aTagsLen):\n",
    "    eachLink = aTags[i].attrs[\"href\"]\n",
    "    eachText = aTags[i].text\n",
    "    row.append([eachLink, eachText])\n",
    "result = pd.DataFrame(data = row, columns=[\"링크\",\"타이틀\"])\n",
    "result.to_csv(\"./test.csv\",encoding = 'ms949',index = False)"
   ]
  },
  {
   "cell_type": "code",
   "execution_count": null,
   "metadata": {},
   "outputs": [],
   "source": []
  }
 ],
 "metadata": {
  "kernelspec": {
   "display_name": "Python 3",
   "language": "python",
   "name": "python3"
  },
  "language_info": {
   "codemirror_mode": {
    "name": "ipython",
    "version": 3
   },
   "file_extension": ".py",
   "mimetype": "text/x-python",
   "name": "python",
   "nbconvert_exporter": "python",
   "pygments_lexer": "ipython3",
   "version": "3.7.6"
  }
 },
 "nbformat": 4,
 "nbformat_minor": 4
}
