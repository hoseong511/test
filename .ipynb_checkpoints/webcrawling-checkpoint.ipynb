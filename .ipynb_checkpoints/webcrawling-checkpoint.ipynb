{
 "cells": [
  {
   "cell_type": "markdown",
   "metadata": {},
   "source": [
    "## beautifulSoup 활용"
   ]
  },
  {
   "cell_type": "markdown",
   "metadata": {},
   "source": [
    "### 1. 라이브러리 불러오기"
   ]
  },
  {
   "cell_type": "code",
   "execution_count": 8,
   "metadata": {},
   "outputs": [],
   "source": [
    "import requests, bs4\n",
    "import pandas as pd"
   ]
  },
  {
   "cell_type": "markdown",
   "metadata": {},
   "source": [
    "### 2. 웹페이지 요청"
   ]
  },
  {
   "cell_type": "code",
   "execution_count": 33,
   "metadata": {},
   "outputs": [],
   "source": [
    "resp_1 = requests.get(url = \"https://sparkkorea.com/퀴즈\")\n",
    "resp_2 = requests.get(url = \"https://sparkkorea.com/%ed%80%b4%ec%a6%88/\")\n",
    "resp_1.encoding = 'utf-8'\n",
    "html = resp_1.text\n",
    "html_2 = resp_2.text"
   ]
  },
  {
   "cell_type": "markdown",
   "metadata": {},
   "source": [
    "## 한글이 깨지는 것을 보완해줌\n",
    "### 웹 -> 파일 encoding = 'ms949'\n",
    "### ... -> 웹 encoding = 'utf-8'"
   ]
  },
  {
   "cell_type": "code",
   "execution_count": 19,
   "metadata": {},
   "outputs": [],
   "source": [
    "bs = bs4.BeautifulSoup(html, 'html.parser' )\n",
    "bs_2 = bs4.BeautifulSoup(html, 'html.parser')\n",
    "# print(bs)\n",
    "# bs_2"
   ]
  },
  {
   "cell_type": "code",
   "execution_count": 43,
   "metadata": {
    "collapsed": true,
    "jupyter": {
     "outputs_hidden": true
    }
   },
   "outputs": [
    {
     "data": {
      "text/plain": [
       "[<a class=\"skip-link screen-reader-text\" href=\"#content\">컨텐츠로 건너뛰기</a>,\n",
       " <a href=\"https://sparkkorea.com/\" rel=\"home\">\n",
       " \t\t\t\t\t스파크 코리아\t\t\t\t</a>,\n",
       " <a href=\"https://sparkkorea.com/%ec%9e%90%eb%a3%8c%ec%8b%a4/\">자료실</a>,\n",
       " <a href=\"https://sparkkorea.com/%ec%84%a4%eb%ac%b8-2/\">설문s</a>,\n",
       " <a aria-current=\"page\" href=\"https://sparkkorea.com/%ed%80%b4%ec%a6%88/\">퀴즈</a>,\n",
       " <a href=\"https://sparkkorea.com/%ed%85%8c%ec%8a%a4%ed%8a%b8/\">테스트</a>,\n",
       " <a href=\"https://sparkkorea.com/%ec%84%a4%eb%ac%b8/\">학생퀴즈</a>,\n",
       " <a href=\"#\"> 설문 준비중 </a>,\n",
       " <a href=\"https://forms.gle/Fw49w9GhWQChDcZm7\"> 6/13 Spark 심화과정 </a>,\n",
       " <a href=\"https://forms.gle/G4TcXm3fKuHLHA6D6\"> 6/13 Spark 기본과정 </a>,\n",
       " <a href=\"https://forms.gle/M8gr1kC2ubA3UDVp8\"> 6/18 Spark [MAP_FILTER] </a>,\n",
       " <a href=\"https://forms.gle/h8w5mZ4MNaPLCPbi6\"> 6/18 Spark GroupBy 심화 </a>,\n",
       " <a href=\"https://forms.gle/q5yL6QHfueDLM5w27\"> 6/25 Spark RDD 실전 분석 </a>,\n",
       " <a href=\"https://forms.gle/Gxb4y6LfVYiaLu4M7\"> 6/27 Spark RDD 실전 분석2 </a>,\n",
       " <a class=\"share-twitter sd-button share-icon\" data-shared=\"sharing-twitter-102\" href=\"https://sparkkorea.com/%ed%80%b4%ec%a6%88/?share=twitter\" rel=\"nofollow noopener noreferrer\" target=\"_blank\" title=\"트위터로 공유하기\"><span>트위터</span></a>,\n",
       " <a class=\"share-facebook sd-button share-icon\" data-shared=\"sharing-facebook-102\" href=\"https://sparkkorea.com/%ed%80%b4%ec%a6%88/?share=facebook\" rel=\"nofollow noopener noreferrer\" target=\"_blank\" title=\"페이스북에 공유하려면 클릭하세요.\"><span>Facebook</span></a>,\n",
       " <a class=\"sd-link-color\"></a>,\n",
       " <a href=\"https://wordpress.com/?ref=footer_segment_business\" rel=\"nofollow\">A WordPress.com Website.</a>]"
      ]
     },
     "execution_count": 43,
     "metadata": {},
     "output_type": "execute_result"
    }
   ],
   "source": [
    "bs.findAll(name = \"a\")"
   ]
  },
  {
   "cell_type": "code",
   "execution_count": 25,
   "metadata": {},
   "outputs": [
    {
     "data": {
      "text/plain": [
       "18"
      ]
     },
     "execution_count": 25,
     "metadata": {},
     "output_type": "execute_result"
    }
   ],
   "source": [
    "atags[0]\n",
    "len(atags)"
   ]
  },
  {
   "cell_type": "code",
   "execution_count": 52,
   "metadata": {},
   "outputs": [
    {
     "data": {
      "text/html": [
       "<div>\n",
       "<style scoped>\n",
       "    .dataframe tbody tr th:only-of-type {\n",
       "        vertical-align: middle;\n",
       "    }\n",
       "\n",
       "    .dataframe tbody tr th {\n",
       "        vertical-align: top;\n",
       "    }\n",
       "\n",
       "    .dataframe thead th {\n",
       "        text-align: right;\n",
       "    }\n",
       "</style>\n",
       "<table border=\"1\" class=\"dataframe\">\n",
       "  <thead>\n",
       "    <tr style=\"text-align: right;\">\n",
       "      <th></th>\n",
       "      <th>링크</th>\n",
       "      <th>타이틀</th>\n",
       "    </tr>\n",
       "  </thead>\n",
       "  <tbody>\n",
       "    <tr>\n",
       "      <th>0</th>\n",
       "      <td>https://forms.gle/Fw49w9GhWQChDcZm7</td>\n",
       "      <td>6/13 Spark 심화과정</td>\n",
       "    </tr>\n",
       "    <tr>\n",
       "      <th>1</th>\n",
       "      <td>https://forms.gle/G4TcXm3fKuHLHA6D6</td>\n",
       "      <td>6/13 Spark 기본과정</td>\n",
       "    </tr>\n",
       "    <tr>\n",
       "      <th>2</th>\n",
       "      <td>https://forms.gle/M8gr1kC2ubA3UDVp8</td>\n",
       "      <td>6/18 Spark [MAP_FILTER]</td>\n",
       "    </tr>\n",
       "    <tr>\n",
       "      <th>3</th>\n",
       "      <td>https://forms.gle/h8w5mZ4MNaPLCPbi6</td>\n",
       "      <td>6/18 Spark GroupBy 심화</td>\n",
       "    </tr>\n",
       "    <tr>\n",
       "      <th>4</th>\n",
       "      <td>https://forms.gle/q5yL6QHfueDLM5w27</td>\n",
       "      <td>6/25 Spark RDD 실전 분석</td>\n",
       "    </tr>\n",
       "    <tr>\n",
       "      <th>5</th>\n",
       "      <td>https://forms.gle/Gxb4y6LfVYiaLu4M7</td>\n",
       "      <td>6/27 Spark RDD 실전 분석2</td>\n",
       "    </tr>\n",
       "  </tbody>\n",
       "</table>\n",
       "</div>"
      ],
      "text/plain": [
       "                                    링크                        타이틀\n",
       "0  https://forms.gle/Fw49w9GhWQChDcZm7           6/13 Spark 심화과정 \n",
       "1  https://forms.gle/G4TcXm3fKuHLHA6D6           6/13 Spark 기본과정 \n",
       "2  https://forms.gle/M8gr1kC2ubA3UDVp8   6/18 Spark [MAP_FILTER] \n",
       "3  https://forms.gle/h8w5mZ4MNaPLCPbi6     6/18 Spark GroupBy 심화 \n",
       "4  https://forms.gle/q5yL6QHfueDLM5w27      6/25 Spark RDD 실전 분석 \n",
       "5  https://forms.gle/Gxb4y6LfVYiaLu4M7     6/27 Spark RDD 실전 분석2 "
      ]
     },
     "execution_count": 52,
     "metadata": {},
     "output_type": "execute_result"
    }
   ],
   "source": [
    "import requests, bs4\n",
    "import pandas as pd\n",
    "\n",
    "# 웹페이지 요청하기\n",
    "resp= requests.get(url = \"https://sparkkorea.com/퀴즈\")\n",
    "\n",
    "# 요청한 웹페이지 텍스트화 \n",
    "html = resp.text\n",
    "\n",
    "# utf-8로 한글깨짐 방지\n",
    "resp.encoding = 'utf-8'\n",
    "\n",
    "# bs4로 텍스트화한 파일을 html형태로 parser하기\n",
    "bs = bs4.BeautifulSoup(html, 'html.parser' )\n",
    "\n",
    "# 태그 이름이 div이고 속성 class 이름이 class_spark_quiz 찾기\n",
    "divtag = bs.find(name = \"div\",\n",
    "                attrs = {\"class\" : \"class_spark_quiz\"})\n",
    "\n",
    "# divtag에서 태그 'a' 찾기\n",
    "atags = divtag.findAll(name = \"a\")\n",
    "\n",
    "# 컬럼을 담을 리스트를 선언함\n",
    "totalList = []\n",
    "\n",
    "# 반복문으로 리스트에 담기\n",
    "for i in range(0, len(atags)):\n",
    "    \n",
    "    # atags에서 속성 'href'의 값을 eachLink에 저장\n",
    "    eachLink = atags[i].attrs[\"href\"]\n",
    "    # 텍스트를 eachText에 저장\n",
    "    eachText = atags[i].text\n",
    "    # 리스트의 형태로 totalList에 추가 [[a, b],[c, d], ...]\n",
    "    totalList.append([eachLink, eachText])\n",
    "\n",
    "# 컬럼명이 \"링크\", \"타이틀\" 인 데이터프레임으로 저장\n",
    "result = pd.DataFrame(data = totalList, columns = [\"링크\", \"타이틀\"])\n",
    "result"
   ]
  },
  {
   "cell_type": "code",
   "execution_count": null,
   "metadata": {},
   "outputs": [],
   "source": []
  }
 ],
 "metadata": {
  "kernelspec": {
   "display_name": "Python 3",
   "language": "python",
   "name": "python3"
  },
  "language_info": {
   "codemirror_mode": {
    "name": "ipython",
    "version": 3
   },
   "file_extension": ".py",
   "mimetype": "text/x-python",
   "name": "python",
   "nbconvert_exporter": "python",
   "pygments_lexer": "ipython3",
   "version": "3.7.6"
  }
 },
 "nbformat": 4,
 "nbformat_minor": 4
}
