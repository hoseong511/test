{
 "cells": [
  {
   "cell_type": "code",
   "execution_count": 3,
   "metadata": {},
   "outputs": [
    {
     "data": {
      "text/plain": [
       "8"
      ]
     },
     "execution_count": 3,
     "metadata": {},
     "output_type": "execute_result"
    }
   ],
   "source": [
    "a=3\n",
    "b=5\n",
    "a+b\n"
   ]
  },
  {
   "cell_type": "markdown",
   "metadata": {},
   "source": [
    "# This is a H1\n",
    "## This is a H2\n",
    "### This is a H3\n",
    "#### This is a H4\n",
    "##### This is a H5\n",
    "###### This is a H6"
   ]
  },
  {
   "cell_type": "code",
   "execution_count": 4,
   "metadata": {},
   "outputs": [
    {
     "name": "stdout",
     "output_type": "stream",
     "text": [
      "<class 'float'>\n",
      "3\n",
      "3.2\n"
     ]
    }
   ],
   "source": [
    "a = 3.2\n",
    "print(type(a))\n",
    "print(round(a))\n",
    "\n",
    "\n",
    "print(a)\n",
    "\n"
   ]
  },
  {
   "cell_type": "code",
   "execution_count": 12,
   "metadata": {},
   "outputs": [
    {
     "name": "stdout",
     "output_type": "stream",
     "text": [
      "(1, 2, 3)\n"
     ]
    }
   ],
   "source": [
    "aList = (1,2,3)\n",
    "print(aList)"
   ]
  },
  {
   "cell_type": "code",
   "execution_count": 14,
   "metadata": {},
   "outputs": [
    {
     "name": "stdout",
     "output_type": "stream",
     "text": [
      "13\n"
     ]
    }
   ],
   "source": [
    "a= \"10\"\n",
    "b =3\n",
    "answer = int(a)+ b\n",
    "print(answer)"
   ]
  },
  {
   "cell_type": "code",
   "execution_count": 18,
   "metadata": {},
   "outputs": [
    {
     "data": {
      "text/plain": [
       "135.456"
      ]
     },
     "execution_count": 18,
     "metadata": {},
     "output_type": "execute_result"
    }
   ],
   "source": [
    "integer_value =123\n",
    "float_value = 12.456\n",
    "sumation = integer_value + float_value\n",
    "sumation"
   ]
  },
  {
   "cell_type": "code",
   "execution_count": 20,
   "metadata": {},
   "outputs": [
    {
     "name": "stdout",
     "output_type": "stream",
     "text": [
      "1532.088\n"
     ]
    }
   ],
   "source": [
    "mul = integer_value*float_value\n",
    "print(mul)"
   ]
  },
  {
   "cell_type": "code",
   "execution_count": 21,
   "metadata": {},
   "outputs": [
    {
     "data": {
      "text/plain": [
       "9.8747591522158"
      ]
     },
     "execution_count": 21,
     "metadata": {},
     "output_type": "execute_result"
    }
   ],
   "source": [
    "div = integer_value/float_value\n",
    "div"
   ]
  },
  {
   "cell_type": "code",
   "execution_count": 23,
   "metadata": {},
   "outputs": [
    {
     "data": {
      "text/plain": [
       "1728"
      ]
     },
     "execution_count": 23,
     "metadata": {},
     "output_type": "execute_result"
    }
   ],
   "source": [
    "integer_value2 = int(float_value)\n",
    "exponential = integer_value2**3\n",
    "exponential"
   ]
  },
  {
   "cell_type": "code",
   "execution_count": null,
   "metadata": {},
   "outputs": [],
   "source": [
    "mod = integer_value%int(float_value)\n",
    "mod"
   ]
  },
  {
   "cell_type": "code",
   "execution_count": null,
   "metadata": {},
   "outputs": [],
   "source": [
    "print(input(\"현재시간을 입력 : \"))\n"
   ]
  },
  {
   "cell_type": "code",
   "execution_count": null,
   "metadata": {},
   "outputs": [],
   "source": []
  },
  {
   "cell_type": "markdown",
   "metadata": {},
   "source": [
    "## 문제 1 (현재 시간과 분을 입력값으로 받아서 두개의 값을 더하는 연산을 수행하세요)"
   ]
  },
  {
   "cell_type": "code",
   "execution_count": 2,
   "metadata": {},
   "outputs": [
    {
     "name": "stdin",
     "output_type": "stream",
     "text": [
      "현재시간을 입력하세요 :  10\n",
      "분을 입력하세요 :  30\n"
     ]
    },
    {
     "name": "stdout",
     "output_type": "stream",
     "text": [
      "40\n"
     ]
    }
   ],
   "source": [
    "hh = int(input(\"현재시간을 입력하세요 : \"))\n",
    "mm = int(input(\"분을 입력하세요 : \"))\n",
    "print(hh+mm)"
   ]
  },
  {
   "cell_type": "markdown",
   "metadata": {},
   "source": [
    "## 문자열"
   ]
  },
  {
   "cell_type": "code",
   "execution_count": 8,
   "metadata": {},
   "outputs": [
    {
     "name": "stdout",
     "output_type": "stream",
     "text": [
      "smart analytics\n",
      "********************\n",
      "2\n",
      "2018\n",
      "01\n"
     ]
    }
   ],
   "source": [
    "head = \"smart\"\n",
    "tail = \"analytics\"\n",
    "fullString = head + \" \" +tail\n",
    "print(fullString)\n",
    "\n",
    "print(\"*\"*20)\n",
    "\n",
    "yearweek = \"201801\"\n",
    "print(yearweek[0])\n",
    "print(yearweek[0:4])\n",
    "print(yearweek[4:])"
   ]
  },
  {
   "cell_type": "code",
   "execution_count": 2,
   "metadata": {},
   "outputs": [
    {
     "name": "stdout",
     "output_type": "stream",
     "text": [
      "1\n",
      "4\n",
      "201728\n"
     ]
    }
   ],
   "source": [
    "yearweek = \"2017W28\"\n",
    "print(yearweek.count(\"W\"))\n",
    "\n",
    "print(yearweek.index(\"W\"))\n",
    "delimeter = yearweek.index(\"W\")\n",
    "newYearweek = yearweek[:delimeter]+yearweek[delimeter+1:]\n",
    "print(newYearweek)"
   ]
  },
  {
   "cell_type": "markdown",
   "metadata": {},
   "source": [
    "## 형변환"
   ]
  },
  {
   "cell_type": "code",
   "execution_count": 3,
   "metadata": {},
   "outputs": [
    {
     "name": "stdout",
     "output_type": "stream",
     "text": [
      "<class 'int'>\n",
      "<class 'float'>\n",
      "<class 'str'>\n"
     ]
    }
   ],
   "source": [
    "strValue = '1234'\n",
    "cvIntValue = int(strValue)\n",
    "print(type(cvIntValue))\n",
    "\n",
    "strValue = '1234'\n",
    "cvFloatValue = float(strValue)\n",
    "print(type(cvFloatValue))\n",
    "\n",
    "numberValue = 1234\n",
    "cvStrValue = str(numberValue)\n",
    "print(type(cvStrValue))\n",
    "\n"
   ]
  },
  {
   "cell_type": "markdown",
   "metadata": {},
   "source": [
    "## 대소문자 변환"
   ]
  },
  {
   "cell_type": "code",
   "execution_count": 5,
   "metadata": {},
   "outputs": [
    {
     "name": "stdout",
     "output_type": "stream",
     "text": [
      "AAA\n",
      "aaa\n"
     ]
    }
   ],
   "source": [
    "lowerletter = \"aaa\"\n",
    "upperletter = lowerletter.upper()\n",
    "print(upperletter)\n",
    "\n",
    "final = upperletter.lower()\n",
    "print(final)"
   ]
  },
  {
   "cell_type": "markdown",
   "metadata": {},
   "source": [
    "## 문자열 분리"
   ]
  },
  {
   "cell_type": "code",
   "execution_count": 7,
   "metadata": {},
   "outputs": [
    {
     "name": "stdout",
     "output_type": "stream",
     "text": [
      "2017\n",
      "12\n"
     ]
    }
   ],
   "source": [
    "orgletter = \"2017w12\"\n",
    "splitter = \"w\"\n",
    "answer = orgletter.split(splitter)\n",
    "print(answer[0])\n",
    "print(answer[1])"
   ]
  },
  {
   "cell_type": "markdown",
   "metadata": {},
   "source": [
    "## 문제 2 \"SEC 20180212 250\" "
   ]
  },
  {
   "cell_type": "code",
   "execution_count": 14,
   "metadata": {},
   "outputs": [
    {
     "name": "stdout",
     "output_type": "stream",
     "text": [
      "250\n",
      "SEC\n",
      "20180212\n"
     ]
    }
   ],
   "source": [
    "strValue = \"SEC 20180212 250\"\n",
    "stock_name = strValue[:3]\n",
    "value = strValue[-3:]\n",
    "date = strValue[4:-4]\n",
    "print(value)\n",
    "print(stock_name)\n",
    "print(date)"
   ]
  },
  {
   "cell_type": "markdown",
   "metadata": {},
   "source": [
    "## 문제 3 \"Sec 2018W28 250\""
   ]
  },
  {
   "cell_type": "code",
   "execution_count": 44,
   "metadata": {},
   "outputs": [
    {
     "name": "stdout",
     "output_type": "stream",
     "text": [
      "SEC 2018W28 250\n",
      "SEC\n",
      "201828\n",
      "250\n"
     ]
    }
   ],
   "source": [
    "strValue = \"Sec 2018W28 250\"\n",
    "upperStr = strValue.upper()\n",
    "print(upperStr)\n",
    "\n",
    "\n",
    "stock_name = upperStr[:3]\n",
    "value = upperStr[-3:]\n",
    "date = upperStr[4:-4].split(\"W\")\n",
    "print(stock_name)\n",
    "print(date[0]+date[1])\n",
    "print(value)"
   ]
  },
  {
   "cell_type": "markdown",
   "metadata": {},
   "source": [
    "## 리스트(List)"
   ]
  },
  {
   "cell_type": "code",
   "execution_count": 67,
   "metadata": {},
   "outputs": [
    {
     "name": "stdout",
     "output_type": "stream",
     "text": [
      "120\n",
      "[201712, 201713]\n",
      "201712\n",
      "['SEC', 120, 130]\n",
      "[120, 130, 140, 150]\n",
      "[120, 130, 180, 150]\n",
      "[120, 130, 150]\n",
      "[120, 130]\n",
      "[120]\n"
     ]
    }
   ],
   "source": [
    "stockName = [\"SEC\"]\n",
    "priceList = [120,130]\n",
    "dateList = [201712,201713]\n",
    "\n",
    "\n",
    "\n",
    "secinfo =['SEC', 120, 130, [201712, 201713]]\n",
    "print(secinfo[1])\n",
    "print(secinfo[3])\n",
    "print(secinfo[3][0])\n",
    "print(secinfo[0:3])\n",
    "\n",
    "len(secinfo)\n",
    "\n",
    "updateList = [120,130,140,150]\n",
    "print(updateList)\n",
    "updateList[2] =180\n",
    "print(updateList)\n",
    "\n",
    "updateList.remove(180)\n",
    "print(updateList)\n",
    "del updateList[2]\n",
    "print(updateList)\n",
    "updateList[1:]=[]\n",
    "\n",
    "print(updateList)\n",
    "\n"
   ]
  },
  {
   "cell_type": "markdown",
   "metadata": {},
   "source": [
    "## 리스트 관련 주요함수"
   ]
  },
  {
   "cell_type": "code",
   "execution_count": 68,
   "metadata": {},
   "outputs": [
    {
     "name": "stdout",
     "output_type": "stream",
     "text": [
      "[120, 130, 140, 100, 150, 100, 11, 12]\n",
      "[11, 12, 100, 100, 120, 130, 140, 150]\n",
      "7\n",
      "8\n",
      "11\n",
      "150\n",
      "763\n"
     ]
    }
   ],
   "source": [
    "functionList = [120, 130, 140, 150]\n",
    "functionList.append(100) \n",
    "functionList.insert(3,100)\n",
    "functionList.extend([11,12])\n",
    "print(functionList)\n",
    "\n",
    "functionList.sort(reverse =False)\n",
    "print(functionList)\n",
    "\n",
    "print(functionList.index(150))\n",
    "\n",
    "print(len(functionList))\n",
    "print(min(functionList))\n",
    "print(max(functionList))\n",
    "print(sum(functionList))"
   ]
  },
  {
   "cell_type": "markdown",
   "metadata": {},
   "source": [
    "## 리스트 관련 주요함수 #2"
   ]
  },
  {
   "cell_type": "code",
   "execution_count": 92,
   "metadata": {},
   "outputs": [
    {
     "name": "stdout",
     "output_type": "stream",
     "text": [
      "2\n",
      "[120, 130, 140, 150]\n"
     ]
    }
   ],
   "source": [
    "functionList = [120,130,140,150,120]\n",
    "print(functionList.count(120))\n",
    "\n",
    "functionList.pop()\n",
    "print(functionList)"
   ]
  },
  {
   "cell_type": "markdown",
   "metadata": {},
   "source": [
    "## 문제 4 \n",
    "### [120, 150, 300, 500, 1000,100,2000] 값에서 최소 최대값을 뺸 평균을 average 이름의 변수에"
   ]
  },
  {
   "cell_type": "code",
   "execution_count": 72,
   "metadata": {},
   "outputs": [
    {
     "name": "stdout",
     "output_type": "stream",
     "text": [
      "950.0\n",
      "<class 'float'>\n"
     ]
    }
   ],
   "source": [
    "value = [120, 150, 300, 500, 1000, 100 ,2000]\n",
    "valueMax = max(value)\n",
    "valueMin = min(value)\n",
    "average = (valueMax - valueMin)/2\n",
    "print(average)\n",
    "print(type(average))"
   ]
  },
  {
   "cell_type": "markdown",
   "metadata": {},
   "source": [
    "## 튜플"
   ]
  },
  {
   "cell_type": "code",
   "execution_count": 74,
   "metadata": {},
   "outputs": [
    {
     "name": "stdout",
     "output_type": "stream",
     "text": [
      "2\n",
      "4\n",
      "(1, 2, 3)\n"
     ]
    },
    {
     "data": {
      "text/plain": [
       "6"
      ]
     },
     "execution_count": 74,
     "metadata": {},
     "output_type": "execute_result"
    }
   ],
   "source": [
    "timeTuple = (1,2,3,4,5,6)\n",
    "print(timeTuple[1])\n",
    "print(timeTuple[3])\n",
    "print(timeTuple[0:3])\n",
    "\n",
    "len(timeTuple)"
   ]
  },
  {
   "cell_type": "markdown",
   "metadata": {},
   "source": [
    "## 딕셔너리"
   ]
  },
  {
   "cell_type": "code",
   "execution_count": 93,
   "metadata": {},
   "outputs": [
    {
     "name": "stdout",
     "output_type": "stream",
     "text": [
      "{'name': 'sec', 'id': '300000', 'address': 'suwon'}\n",
      "sec\n",
      "{'name': 'sec2', 'id': '300000', 'address': 'suwon', 'stock': 'yes'}\n",
      "yes\n",
      "{'id': '300000', 'address': 'suwon', 'stock': 'yes'}\n"
     ]
    }
   ],
   "source": [
    "\n",
    "dic = {\"name\":\"sec\",\"id\": \"300000\", \"address\": \"suwon\"}\n",
    "print(dic)\n",
    "print(dic['name'])\n",
    "\n",
    "dic[\"name\"] = \"sec2\"\n",
    "dic[\"stock\"] = \"yes\"\n",
    "print(dic)\n",
    "print(dic[\"stock\"])\n",
    "\n",
    "dic.pop(\"name\")\n",
    "print(dic)\n",
    "\n",
    "\n"
   ]
  },
  {
   "cell_type": "markdown",
   "metadata": {},
   "source": [
    "## 딕셔너리 활용"
   ]
  },
  {
   "cell_type": "code",
   "execution_count": 97,
   "metadata": {},
   "outputs": [
    {
     "name": "stdout",
     "output_type": "stream",
     "text": [
      "2.5\n"
     ]
    },
    {
     "name": "stdin",
     "output_type": "stream",
     "text": [
      "나라를 입력하세요 :  한국\n"
     ]
    },
    {
     "name": "stdout",
     "output_type": "stream",
     "text": [
      "2\n"
     ]
    }
   ],
   "source": [
    "# 키정의\n",
    "tuple1 = (\"미국\",\"LEDTV\",\"01\")\n",
    "tuple2 = (\"미국\",\"LEDTV\",\"02\")\n",
    "\n",
    "dic = {tuple1: 2.5, tuple2: 1.2}\n",
    "print(dic[tuple1])\n",
    "# 딕셔너리 활용\n",
    "america = \"미국\" \n",
    "korea = \"한국\"\n",
    "japan = \"일본\"\n",
    "\n",
    "dic = {america : \"양호\", korea : 2, japan : 3}\n",
    "print(dic[input(\"나라를 입력하세요 : \")])"
   ]
  },
  {
   "cell_type": "markdown",
   "metadata": {},
   "source": [
    "## 문제 5\n",
    "### dic = {\"name\":\"sec\",\"id\":\"300000\",\"address\": \"suwon\"}에서 id 삭제하기"
   ]
  },
  {
   "cell_type": "code",
   "execution_count": 99,
   "metadata": {},
   "outputs": [
    {
     "name": "stdout",
     "output_type": "stream",
     "text": [
      "{'name': 'sec', 'address': 'suwon'}\n"
     ]
    }
   ],
   "source": [
    "dic = {\"name\":\"sec\",\"id\":\"300000\",\"address\": \"suwon\"}\n",
    "dic.pop(\"id\")\n",
    "print(dic)"
   ]
  },
  {
   "cell_type": "markdown",
   "metadata": {},
   "source": [
    "## Pandas DataFrame"
   ]
  },
  {
   "cell_type": "code",
   "execution_count": 101,
   "metadata": {},
   "outputs": [
    {
     "name": "stdout",
     "output_type": "stream",
     "text": [
      "  name  age  stock_age\n",
      "0  A고객   27          2\n",
      "1  B고객   40         10\n",
      "2  C고객   33          5\n",
      "3  D고객   29          1\n"
     ]
    }
   ],
   "source": [
    "import pandas as pd\n",
    "\n",
    "data = {\"name\": ['A고객','B고객','C고객',\"D고객\"],'age':[27,40,33,29],'stock_age':[2,10,5,1]}\n",
    "dataFrame = pd.DataFrame(data)\n",
    "print(dataFrame)"
   ]
  },
  {
   "cell_type": "code",
   "execution_count": 1,
   "metadata": {},
   "outputs": [
    {
     "data": {
      "text/html": [
       "<div>\n",
       "<style scoped>\n",
       "    .dataframe tbody tr th:only-of-type {\n",
       "        vertical-align: middle;\n",
       "    }\n",
       "\n",
       "    .dataframe tbody tr th {\n",
       "        vertical-align: top;\n",
       "    }\n",
       "\n",
       "    .dataframe thead th {\n",
       "        text-align: right;\n",
       "    }\n",
       "</style>\n",
       "<table border=\"1\" class=\"dataframe\">\n",
       "  <thead>\n",
       "    <tr style=\"text-align: right;\">\n",
       "      <th></th>\n",
       "      <th>test</th>\n",
       "    </tr>\n",
       "  </thead>\n",
       "  <tbody>\n",
       "    <tr>\n",
       "      <th>0</th>\n",
       "      <td>10</td>\n",
       "    </tr>\n",
       "    <tr>\n",
       "      <th>1</th>\n",
       "      <td>100</td>\n",
       "    </tr>\n",
       "    <tr>\n",
       "      <th>2</th>\n",
       "      <td>1000</td>\n",
       "    </tr>\n",
       "    <tr>\n",
       "      <th>3</th>\n",
       "      <td>10000</td>\n",
       "    </tr>\n",
       "  </tbody>\n",
       "</table>\n",
       "</div>"
      ],
      "text/plain": [
       "    test\n",
       "0     10\n",
       "1    100\n",
       "2   1000\n",
       "3  10000"
      ]
     },
     "execution_count": 1,
     "metadata": {},
     "output_type": "execute_result"
    }
   ],
   "source": [
    "import pandas as pd\n",
    "\n",
    "test = [10,100,1000,10000]\n",
    "\n",
    "testDf = pd.DataFrame(test)\n",
    "\n",
    "testDf.columns=['test']\n",
    "testDf"
   ]
  },
  {
   "cell_type": "code",
   "execution_count": 5,
   "metadata": {},
   "outputs": [
    {
     "data": {
      "text/html": [
       "<div>\n",
       "<style scoped>\n",
       "    .dataframe tbody tr th:only-of-type {\n",
       "        vertical-align: middle;\n",
       "    }\n",
       "\n",
       "    .dataframe tbody tr th {\n",
       "        vertical-align: top;\n",
       "    }\n",
       "\n",
       "    .dataframe thead th {\n",
       "        text-align: right;\n",
       "    }\n",
       "</style>\n",
       "<table border=\"1\" class=\"dataframe\">\n",
       "  <thead>\n",
       "    <tr style=\"text-align: right;\">\n",
       "      <th></th>\n",
       "      <th>date2</th>\n",
       "      <th>date23</th>\n",
       "    </tr>\n",
       "  </thead>\n",
       "  <tbody>\n",
       "    <tr>\n",
       "      <th>0</th>\n",
       "      <td>16.02.29</td>\n",
       "      <td>17.02.29</td>\n",
       "    </tr>\n",
       "    <tr>\n",
       "      <th>1</th>\n",
       "      <td>16.02.26</td>\n",
       "      <td>17.02.26</td>\n",
       "    </tr>\n",
       "    <tr>\n",
       "      <th>2</th>\n",
       "      <td>16.02.25</td>\n",
       "      <td>17.02.25</td>\n",
       "    </tr>\n",
       "    <tr>\n",
       "      <th>3</th>\n",
       "      <td>16.02.26</td>\n",
       "      <td>17.02.26</td>\n",
       "    </tr>\n",
       "  </tbody>\n",
       "</table>\n",
       "</div>"
      ],
      "text/plain": [
       "      date2    date23\n",
       "0  16.02.29  17.02.29\n",
       "1  16.02.26  17.02.26\n",
       "2  16.02.25  17.02.25\n",
       "3  16.02.26  17.02.26"
      ]
     },
     "execution_count": 5,
     "metadata": {},
     "output_type": "execute_result"
    }
   ],
   "source": [
    "import pandas as pd\n",
    "\n",
    "date = ['16.02.29','16.02.26','16.02.25','16.02.26']\n",
    "date2 = ['17.02.29','17.02.26','17.02.25','17.02.26']\n",
    "\n",
    "date_df = pd.DataFrame(date, columns = ['date2'])\n",
    "date_df2 = pd.DataFrame(date2, columns = ['date23'])\n",
    "\n",
    "final = pd.concat([date_df,date_df2],axis =1)\n",
    "final"
   ]
  },
  {
   "cell_type": "markdown",
   "metadata": {},
   "source": [
    "## 파이썬 패키지 활용하기"
   ]
  },
  {
   "cell_type": "code",
   "execution_count": 45,
   "metadata": {},
   "outputs": [
    {
     "data": {
      "text/plain": [
       "10"
      ]
     },
     "execution_count": 45,
     "metadata": {},
     "output_type": "execute_result"
    }
   ],
   "source": [
    "import numpy as np\n",
    "\n",
    "np.random.randint(11)"
   ]
  },
  {
   "cell_type": "markdown",
   "metadata": {},
   "source": [
    "## 파이썬 문법\n",
    "### 1. 반복문 (while, for)"
   ]
  },
  {
   "cell_type": "code",
   "execution_count": 47,
   "metadata": {},
   "outputs": [
    {
     "name": "stdout",
     "output_type": "stream",
     "text": [
      "LEDTV_UN40EN001\n",
      "LEDTV_UN40EN002\n",
      "LEDTV_UN40EN003\n",
      "LEDTV_UN40EN004\n"
     ]
    }
   ],
   "source": [
    "tvList = ['UN40EN001','UN40EN002','UN40EN003','UN40EN004']\n",
    "preFix = \"LEDTV_\"\n",
    "\n",
    "for i in range(0,4,1):\n",
    "    tvList[i] = preFix + tvList[i]\n",
    "    \n",
    "\n",
    "    print(tvList[i])"
   ]
  },
  {
   "cell_type": "code",
   "execution_count": 52,
   "metadata": {},
   "outputs": [
    {
     "name": "stdout",
     "output_type": "stream",
     "text": [
      "LEDTV_UN40EN001\n",
      "LEDTV_UN40EN002\n",
      "LEDTV_UN40EN003\n",
      "LEDTV_UN40EN004\n"
     ]
    }
   ],
   "source": [
    "tvList = ['UN40EN001','UN40EN002','UN40EN003','UN40EN004']\n",
    "preFix = \"LEDTV_\"\n",
    "\n",
    "i = 0\n",
    "listLength = len(tvList)\n",
    "while(i < listLength):\n",
    "    tvList[i] = preFix + tvList[i]\n",
    "    \n",
    "    print(tvList[i])\n",
    "    i = i +1"
   ]
  },
  {
   "cell_type": "code",
   "execution_count": 55,
   "metadata": {},
   "outputs": [
    {
     "name": "stdout",
     "output_type": "stream",
     "text": [
      "UN40EN001\n",
      "UN40EN002\n",
      "UN40EN003\n",
      "UN40EN004\n",
      "UN40EN001\n",
      "UN40EN002\n",
      "UN40EN003\n",
      "UN40EN004\n"
     ]
    }
   ],
   "source": [
    "tvList2 = ['UN40EN001','UN40EN002','UN40EN003','UN40EN004']\n",
    "\n",
    "for i in range(0,4,1):\n",
    "    tvList2[i]\n",
    "    print(tvList2[i])\n",
    "\n",
    "i = 0\n",
    "while(i < len(tvList2)):\n",
    "    print(tvList2[i])\n",
    "    \n",
    "    i = i+1\n"
   ]
  },
  {
   "cell_type": "markdown",
   "metadata": {},
   "source": [
    "#### 2. 조건 판단하기"
   ]
  },
  {
   "cell_type": "code",
   "execution_count": 56,
   "metadata": {},
   "outputs": [
    {
     "data": {
      "text/plain": [
       "'LEDTV_UN40EN001'"
      ]
     },
     "execution_count": 56,
     "metadata": {},
     "output_type": "execute_result"
    }
   ],
   "source": [
    "testModel = \"UN40EN001\"\n",
    "preFix = \"LEDTV_\"\n",
    "\n",
    "if testModel.count(preFix) == 0:\n",
    "    testModel = preFix + testModel\n",
    "else:\n",
    "    pass\n",
    "testModel"
   ]
  },
  {
   "cell_type": "code",
   "execution_count": 3,
   "metadata": {},
   "outputs": [
    {
     "name": "stdout",
     "output_type": "stream",
     "text": [
      "3\n",
      "UN40EN001\n",
      "UN40EN001\n",
      "LEDTV_UN40EN001\n"
     ]
    }
   ],
   "source": [
    "testModel = \"LEDTV_LEDTV_LEDTV_UN40EN001\"\n",
    "preFix = \"LEDTV_\"\n",
    "print(testModel.count(preFix))\n",
    "print(testModel.replace(preFix,\"\"))\n",
    "\n",
    "if testModel.count(preFix) > 1:\n",
    "    testModel = testModel.replace(preFix,\"\")\n",
    "    \n",
    "    print(testModel)\n",
    "    testModel = preFix + testModel\n",
    "    \n",
    "elif testModel.count(preFix) == 1:\n",
    "    pass\n",
    "else:\n",
    "    testModel = preFix + testModel\n",
    "    \n",
    "print(testModel)\n"
   ]
  },
  {
   "cell_type": "code",
   "execution_count": 8,
   "metadata": {},
   "outputs": [
    {
     "name": "stdout",
     "output_type": "stream",
     "text": [
      "LEDTV_UN40EN001\n",
      "LEDTV_UN40EN002\n",
      "LEDTV_UN40EN003\n",
      "G3_MO001\n",
      "G3_MO002\n",
      "G3_MO003\n",
      "BL_SP001\n",
      "BL_SP002\n",
      "BL_SP003\n"
     ]
    }
   ],
   "source": [
    "tvList = [\"LEDTV_UN40EN001\",\"LEDTV_UN40EN002\",\"LEDTV_UN40EN003\"]\n",
    "mobileList = [\"G3_MO001\",\"G3_MO002\",\"G3_MO003\"]\n",
    "speakerList = [\"BL_SP001\",\"BL_SP002\",\"BL_SP003\"]\n",
    "\n",
    "productList = [tvList, mobileList, speakerList]\n",
    "\n",
    "for i in range(0, len(productList)):\n",
    "    productlength = productList[i]\n",
    "    for j in range (0,len(productlength)):\n",
    "        if (productList[i][j].split(\"_\")[0]==\"G3\") & (productList[i][j].split(\"_\") == \"MO002\" ):\n",
    "            pass\n",
    "        print(productList[i][j])\n"
   ]
  },
  {
   "cell_type": "markdown",
   "metadata": {},
   "source": [
    "## 문제 \n",
    "### tvList = ['UN40EN001', 'LEDTV_UN40EN002', 'LEDTV_LEDTV_UN40EN003', 'UN40EN004'] LEDTV_ 가 한 개만 오도록\n"
   ]
  },
  {
   "cell_type": "code",
   "execution_count": 9,
   "metadata": {},
   "outputs": [
    {
     "name": "stdout",
     "output_type": "stream",
     "text": [
      "LEDTV_UN40EN001\n",
      "LEDTV_UN40EN002\n",
      "LEDTV_UN40EN003\n",
      "LEDTV_UN40EN004\n"
     ]
    }
   ],
   "source": [
    "tvList2 = ['UN40EN001', 'LEDTV_UN40EN002', 'LEDTV_LEDTV_UN40EN003', 'UN40EN004']\n",
    "preFix =\"LEDTV_\"\n",
    "\n",
    "for i in range(0,len(tvList2)):\n",
    "    if tvList2[i].count(preFix) > 1:\n",
    "        tvList2[i] = tvList2[i].replace(preFix,\"\")\n",
    "        tvList2[i] = preFix + tvList2[i]\n",
    "    elif tvList2[i].count(preFix) == 1:\n",
    "        pass\n",
    "    else:\n",
    "        tvList2[i] = preFix + tvList2[i]\n",
    "    print(tvList2[i])"
   ]
  },
  {
   "cell_type": "markdown",
   "metadata": {},
   "source": [
    "## 문제\n",
    "#### nationList ['A01', '한국', 'A02', '미국', 'A03', '중국'] 국가코드만 출력"
   ]
  },
  {
   "cell_type": "code",
   "execution_count": 9,
   "metadata": {},
   "outputs": [
    {
     "data": {
      "text/plain": [
       "['A01', 'A02', 'A03']"
      ]
     },
     "execution_count": 9,
     "metadata": {},
     "output_type": "execute_result"
    }
   ],
   "source": [
    "nationList = ['A01', '한국', 'A02', '미국', 'A03', '중국']\n",
    "\n",
    "nationList2 =[]\n",
    "for i in range(0, len(nationList)):\n",
    "    if nationList[i].count(\"A\") >= 1:\n",
    "        nationList2.append(nationList[i])\n",
    "   \n",
    "    else:\n",
    "        pass\n",
    "    \n",
    "nationList2"
   ]
  },
  {
   "cell_type": "code",
   "execution_count": 3,
   "metadata": {},
   "outputs": [
    {
     "name": "stdin",
     "output_type": "stream",
     "text": [
      "score?  11\n"
     ]
    },
    {
     "name": "stdout",
     "output_type": "stream",
     "text": [
      "C\n"
     ]
    }
   ],
   "source": [
    "score = int(input(\"score? \"))\n",
    "\n",
    "if score >= 90:\n",
    "    result = \"A\"\n",
    "elif score >= 80:\n",
    "    result = \"B\"\n",
    "else:\n",
    "    result =\"C\"\n",
    "print(result)"
   ]
  },
  {
   "cell_type": "markdown",
   "metadata": {},
   "source": [
    "### 3. 반복 프로세스 함수화"
   ]
  },
  {
   "cell_type": "code",
   "execution_count": null,
   "metadata": {},
   "outputs": [],
   "source": []
  },
  {
   "cell_type": "code",
   "execution_count": 1,
   "metadata": {},
   "outputs": [
    {
     "name": "stdout",
     "output_type": "stream",
     "text": [
      "35229.06333333333\n",
      "35248.91490376756\n"
     ]
    }
   ],
   "source": [
    "import pandas as pd\n",
    "customerData = pd.read_csv(\"C:/Users/Lenovo/pywork/dataset/kopo_customerdata.csv\")\n",
    "\n",
    "\n",
    "customerTotalList= customerData[\"TOTAL_AMOUNT\"].tolist()\n",
    "totalMax = max(customerTotalList)\n",
    "totalMin = min(customerTotalList)\n",
    "\n",
    "# print(customerTotalList.count(totalMin))\n",
    "# print(totalMax)\n",
    "\n",
    "totalMaxCount = customerTotalList.count(totalMax)\n",
    "totalMinCount = customerTotalList.count(totalMin)\n",
    "\n",
    "average = (sum(customerTotalList)-(totalMaxCount*totalMax+totalMinCount*totalMin)) / (len(customerTotalList)-totalMinCount-totalMaxCount)\n",
    "\n",
    "print(sum(customerTotalList)/ len(customerTotalList))\n",
    "\n",
    "\n",
    "print(average)"
   ]
  },
  {
   "cell_type": "code",
   "execution_count": null,
   "metadata": {},
   "outputs": [],
   "source": []
  }
 ],
 "metadata": {
  "kernelspec": {
   "display_name": "Python 3",
   "language": "python",
   "name": "python3"
  },
  "language_info": {
   "codemirror_mode": {
    "name": "ipython",
    "version": 3
   },
   "file_extension": ".py",
   "mimetype": "text/x-python",
   "name": "python",
   "nbconvert_exporter": "python",
   "pygments_lexer": "ipython3",
   "version": "3.7.6"
  }
 },
 "nbformat": 4,
 "nbformat_minor": 4
}
