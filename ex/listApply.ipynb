{
 "cells": [
  {
   "cell_type": "code",
   "execution_count": 15,
   "metadata": {},
   "outputs": [
    {
     "name": "stdin",
     "output_type": "stream",
     "text": [
      "과목명? asf\n",
      "이름?(종료시 '0')  a\n",
      "점수?  1\n",
      "이름?(종료시 '0')  b\n",
      "점수?  2\n",
      "이름?(종료시 '0')  c\n",
      "점수?  3\n",
      "이름?(종료시 '0')  0\n"
     ]
    },
    {
     "data": {
      "text/html": [
       "<div>\n",
       "<style scoped>\n",
       "    .dataframe tbody tr th:only-of-type {\n",
       "        vertical-align: middle;\n",
       "    }\n",
       "\n",
       "    .dataframe tbody tr th {\n",
       "        vertical-align: top;\n",
       "    }\n",
       "\n",
       "    .dataframe thead th {\n",
       "        text-align: right;\n",
       "    }\n",
       "</style>\n",
       "<table border=\"1\" class=\"dataframe\">\n",
       "  <thead>\n",
       "    <tr style=\"text-align: right;\">\n",
       "      <th></th>\n",
       "      <th>이름</th>\n",
       "      <th>asf</th>\n",
       "    </tr>\n",
       "  </thead>\n",
       "  <tbody>\n",
       "    <tr>\n",
       "      <th>0</th>\n",
       "      <td>a</td>\n",
       "      <td>1</td>\n",
       "    </tr>\n",
       "    <tr>\n",
       "      <th>1</th>\n",
       "      <td>b</td>\n",
       "      <td>2</td>\n",
       "    </tr>\n",
       "    <tr>\n",
       "      <th>2</th>\n",
       "      <td>c</td>\n",
       "      <td>3</td>\n",
       "    </tr>\n",
       "  </tbody>\n",
       "</table>\n",
       "</div>"
      ],
      "text/plain": [
       "  이름  asf\n",
       "0  a    1\n",
       "1  b    2\n",
       "2  c    3"
      ]
     },
     "execution_count": 15,
     "metadata": {},
     "output_type": "execute_result"
    }
   ],
   "source": [
    "import pandas as pd\n",
    "score = []\n",
    "name = []\n",
    "className = input(\"과목명?\")\n",
    "i = 0\n",
    "while i > -1:\n",
    "    n = input(\"이름?(종료시 '0') \")\n",
    "    if n == '0':\n",
    "        i = -1\n",
    "    else:\n",
    "        name.append(n)\n",
    "        s = int(input(\"점수? \"))\n",
    "        score.append(s)\n",
    "    \n",
    "name_df = pd.DataFrame(name, columns=[\"이름\"])\n",
    "score_df = pd.DataFrame(score, columns=[className])\n",
    "\n",
    "totalList = pd.concat([name_df,score_df], axis =1)\n",
    "totalList"
   ]
  },
  {
   "cell_type": "markdown",
   "metadata": {},
   "source": [
    "## 딕셔너리 이용"
   ]
  },
  {
   "cell_type": "code",
   "execution_count": 33,
   "metadata": {},
   "outputs": [
    {
     "name": "stdin",
     "output_type": "stream",
     "text": [
      "과목수?  3\n",
      "이름? 종료시'0 송호성\n",
      "점수? 50\n",
      "점수? 50\n",
      "점수? 50\n",
      "이름? 종료시'0 김철수\n",
      "점수? 40\n",
      "점수? 50\n",
      "점수? 50\n",
      "이름? 종료시'0 강철민\n",
      "점수? 50\n",
      "점수? 60\n",
      "점수? 70\n",
      "이름? 종료시'0 0\n"
     ]
    },
    {
     "data": {
      "text/html": [
       "<div>\n",
       "<style scoped>\n",
       "    .dataframe tbody tr th:only-of-type {\n",
       "        vertical-align: middle;\n",
       "    }\n",
       "\n",
       "    .dataframe tbody tr th {\n",
       "        vertical-align: top;\n",
       "    }\n",
       "\n",
       "    .dataframe thead th {\n",
       "        text-align: right;\n",
       "    }\n",
       "</style>\n",
       "<table border=\"1\" class=\"dataframe\">\n",
       "  <thead>\n",
       "    <tr style=\"text-align: right;\">\n",
       "      <th></th>\n",
       "      <th>송호성</th>\n",
       "      <th>김철수</th>\n",
       "      <th>강철민</th>\n",
       "    </tr>\n",
       "  </thead>\n",
       "  <tbody>\n",
       "    <tr>\n",
       "      <th>0</th>\n",
       "      <td>50.0</td>\n",
       "      <td>40.000000</td>\n",
       "      <td>50.0</td>\n",
       "    </tr>\n",
       "    <tr>\n",
       "      <th>1</th>\n",
       "      <td>50.0</td>\n",
       "      <td>50.000000</td>\n",
       "      <td>60.0</td>\n",
       "    </tr>\n",
       "    <tr>\n",
       "      <th>2</th>\n",
       "      <td>50.0</td>\n",
       "      <td>50.000000</td>\n",
       "      <td>70.0</td>\n",
       "    </tr>\n",
       "    <tr>\n",
       "      <th>3</th>\n",
       "      <td>50.0</td>\n",
       "      <td>46.666667</td>\n",
       "      <td>60.0</td>\n",
       "    </tr>\n",
       "  </tbody>\n",
       "</table>\n",
       "</div>"
      ],
      "text/plain": [
       "    송호성        김철수   강철민\n",
       "0  50.0  40.000000  50.0\n",
       "1  50.0  50.000000  60.0\n",
       "2  50.0  50.000000  70.0\n",
       "3  50.0  46.666667  60.0"
      ]
     },
     "execution_count": 33,
     "metadata": {},
     "output_type": "execute_result"
    }
   ],
   "source": [
    "import pandas as pd\n",
    "\n",
    "a={}\n",
    "i = 0\n",
    "num = int(input(\"과목수? \"))\n",
    "while i > -1:\n",
    "    n = input(\"이름? 종료시'0\")\n",
    "    if n == \"0\":\n",
    "        i = -1\n",
    "    else:\n",
    "        slist = []        \n",
    "        for i in range(0,num):\n",
    "            s = int(input(\"점수?\"))\n",
    "            slist.append(s)\n",
    "        avg = sum(slist) / num\n",
    "        slist.append(avg)\n",
    "        a[n] = slist\n",
    "        \n",
    "       \n",
    "total = pd.DataFrame(a)\n",
    "total"
   ]
  },
  {
   "cell_type": "code",
   "execution_count": null,
   "metadata": {},
   "outputs": [],
   "source": []
  }
 ],
 "metadata": {
  "kernelspec": {
   "display_name": "Python 3",
   "language": "python",
   "name": "python3"
  },
  "language_info": {
   "codemirror_mode": {
    "name": "ipython",
    "version": 3
   },
   "file_extension": ".py",
   "mimetype": "text/x-python",
   "name": "python",
   "nbconvert_exporter": "python",
   "pygments_lexer": "ipython3",
   "version": "3.7.6"
  }
 },
 "nbformat": 4,
 "nbformat_minor": 4
}
