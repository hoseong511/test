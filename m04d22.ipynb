{
 "cells": [
  {
   "cell_type": "code",
   "execution_count": 21,
   "metadata": {},
   "outputs": [
    {
     "name": "stdout",
     "output_type": "stream",
     "text": [
      "       연도   월  전국PIR  서울PIR  부산PIR  대구PIR  인천PIR  광주PIR  대전PIR  울산PIR  ...  \\\n",
      "138  2015   9   5.43   6.80   5.47   6.41   5.52   5.09   4.69   5.13  ...   \n",
      "139  2015  10   5.57   6.87   5.49   6.17   5.67   5.35   4.97   5.31  ...   \n",
      "140  2015  11   5.61   7.12   5.54   6.48   5.74   5.36   5.12   5.14  ...   \n",
      "141  2015  12   5.68   7.18   5.78   6.48   5.76   5.46   5.17   5.11  ...   \n",
      "142  2016   1   4.31   7.30   5.73   6.88   5.74   4.92   4.79   5.38  ...   \n",
      "\n",
      "     세종LIR  경기LIR  강원LIR  충북LIR  충남LIR  전북LIR  전남LIR  경북LIR  경남LIR  제주LIR  \n",
      "138   2.08   2.42   1.77   1.76   2.02   1.58   1.71   1.70   2.02   2.03  \n",
      "139   2.27   2.42   1.64   1.75   1.82   1.68   1.64   1.76   2.01   2.61  \n",
      "140   2.39   2.53   1.76   1.90   1.92   1.99   1.64   1.86   2.10   2.64  \n",
      "141   2.17   2.56   1.95   2.11   2.02   1.88   1.67   1.99   2.14   2.54  \n",
      "142   2.39   2.38   1.74   1.83   1.81   1.63   1.75   1.71   2.05   2.29  \n",
      "\n",
      "[5 rows x 38 columns]\n"
     ]
    }
   ],
   "source": [
    "import pandas as pd\n",
    "# 홈페이지가 개편되어 다운로드 링크 확인시 javascript:void(0)선택 후 ctrl+j해서 링크 가져옴\n",
    "url = \"https://www.data.go.kr/cmm/cmm/fileDownload.do?atchFileId=FILE_000000001581654&fileDetailSn=1\"\n",
    "try:\n",
    "    data = pd.read_csv(url, encoding = 'ms949')\n",
    "    print(data.tail())\n",
    "except:\n",
    "    print(\"데이터를 읽어 올 수 없습니다.\")"
   ]
  },
  {
   "cell_type": "code",
   "execution_count": 6,
   "metadata": {},
   "outputs": [
    {
     "name": "stdout",
     "output_type": "stream",
     "text": [
      "잘못된 페이지입니다.\n"
     ]
    }
   ],
   "source": [
    "import pandas as pd\n",
    "\n",
    "url_csv = 'https://www.data.go.kr/dataset/fileDownload.do?atchFileId=FILE_000000001571177&fileDetailSn=1&publicDataDetailPk=uddi:7f709991-a3f6-47ab-a220-ab517ffd6573_201909201559'\n",
    "\n",
    "try:\n",
    "    data_csv = pd.read_csv(url_csv, encoding='ms949')\n",
    "    print(data_csv)\n",
    "except Exception as e:\n",
    "    print(\"잘못된 페이지입니다.\")"
   ]
  },
  {
   "cell_type": "code",
   "execution_count": 20,
   "metadata": {},
   "outputs": [
    {
     "name": "stdout",
     "output_type": "stream",
     "text": [
      "              TBL_NM  PRD_DE      TBL_ID ITM_NM        ITM_NM_ENG ITM_ID  \\\n",
      "0  행정구역(시군구)별 성별 인구수  202003  DT_1B040A3   총인구수   Koreans (Total)    T20   \n",
      "1  행정구역(시군구)별 성별 인구수  202003  DT_1B040A3  남자인구수    Koreans (Male)    T21   \n",
      "2  행정구역(시군구)별 성별 인구수  202003  DT_1B040A3  여자인구수  Koreans (Female)    T22   \n",
      "3  행정구역(시군구)별 성별 인구수  202003  DT_1B040A3   총인구수   Koreans (Total)    T20   \n",
      "4  행정구역(시군구)별 성별 인구수  202003  DT_1B040A3  남자인구수    Koreans (Male)    T21   \n",
      "\n",
      "  UNIT_NM ORG_ID UNIT_NM_ENG   C1_OBJ_NM               C1_OBJ_NM_ENG  \\\n",
      "0       명    101      Person  행정구역(시군구)별  By Administrative District   \n",
      "1       명    101      Person  행정구역(시군구)별  By Administrative District   \n",
      "2       명    101      Person  행정구역(시군구)별  By Administrative District   \n",
      "3       명    101      Person  행정구역(시군구)별  By Administrative District   \n",
      "4       명    101      Person  행정구역(시군구)별  By Administrative District   \n",
      "\n",
      "         DT PRD_SE  C1  C1_NM      C1_NM_ENG  \n",
      "0  51843195      M  00     전국  Whole country  \n",
      "1  25858743      M  00     전국  Whole country  \n",
      "2  25984452      M  00     전국  Whole country  \n",
      "3   9733655      M  11  서울특별시          Seoul  \n",
      "4   4742217      M  11  서울특별시          Seoul  \n"
     ]
    },
    {
     "name": "stderr",
     "output_type": "stream",
     "text": [
      "C:\\Users\\Lenovo\\anaconda3\\lib\\site-packages\\ipykernel_launcher.py:15: FutureWarning: pandas.io.json.json_normalize is deprecated, use pandas.json_normalize instead\n",
      "  from ipykernel import kernelapp as app\n"
     ]
    }
   ],
   "source": [
    "# 라이브러리 선언\n",
    "import pandas as pd\n",
    "import requests\n",
    "from pandas.io.json import json_normalize\n",
    "# API데이터 접속 주소\n",
    "url = \"http://kosis.kr/openapi/statisticsData.do?method=getList&apiKey=MzcwNDMyMmIyNGMwYzVkMjBiYzA2NjA1MWQ3Y2M2YWM=&format=json&jsonVD=Y&userStatsId=thdghtjd115/101/DT_1B040A3/2/1/20200423145454&prdSe=M&newEstPrdCnt=1\"\n",
    "try:\n",
    "    # 요청 후 응답받기\n",
    "    response = requests.get(url)\n",
    "\n",
    "    # JSON데이터 획득\n",
    "    json = response.json()\n",
    "\n",
    "    # 데이터프레임으로 저장\n",
    "    df = json_normalize(json)\n",
    "    print(df.head())\n",
    "except:\n",
    "    print(\"데이터를 읽어 올 수 없습니다.\")"
   ]
  }
 ],
 "metadata": {
  "kernelspec": {
   "display_name": "Python 3",
   "language": "python",
   "name": "python3"
  },
  "language_info": {
   "codemirror_mode": {
    "name": "ipython",
    "version": 3
   },
   "file_extension": ".py",
   "mimetype": "text/x-python",
   "name": "python",
   "nbconvert_exporter": "python",
   "pygments_lexer": "ipython3",
   "version": "3.7.6"
  }
 },
 "nbformat": 4,
 "nbformat_minor": 4
}
