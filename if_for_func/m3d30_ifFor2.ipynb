{
 "cells": [
  {
   "cell_type": "code",
   "execution_count": 1,
   "metadata": {},
   "outputs": [
    {
     "data": {
      "text/plain": [
       "79.0"
      ]
     },
     "execution_count": 1,
     "metadata": {},
     "output_type": "execute_result"
    }
   ],
   "source": [
    "scoreList = [70,60,55,75,95,90,80,80,85,100]\n",
    "\n",
    "sumation = 0\n",
    "for i in range(0, len(scoreList)):\n",
    "    sumation += scoreList[i]\n",
    "    \n",
    "avg = sumation / len(scoreList)\n",
    "avg\n"
   ]
  },
  {
   "cell_type": "code",
   "execution_count": null,
   "metadata": {},
   "outputs": [],
   "source": []
  },
  {
   "cell_type": "code",
   "execution_count": 3,
   "metadata": {},
   "outputs": [
    {
     "name": "stdout",
     "output_type": "stream",
     "text": [
      " 수학점수: 30.0 \n",
      " 국어점수: 0.0 \n",
      " 음악점수: 40.0 \n",
      " 총 점수: 23.333333333333332\n"
     ]
    }
   ],
   "source": [
    "mathList = [20,20,40,40,30]\n",
    "korList = [0,0,0,0,0]\n",
    "musicList = [30,30,50,50,40]\n",
    "midtermList = [ mathList, korList, musicList ]\n",
    "eachScoreList =[]                             # 각 과목 점수의 합\n",
    "eachLenList =[]                               # 각 과목 점수의 개수\n",
    "avgList = []                                  # 각 과목의 평균\n",
    "\n",
    "totalSum = 0\n",
    "totalLen = 0\n",
    "for i in range (0, len(midtermList)):\n",
    "    eachLenList.append(len(midtermList[i]))   #각 과목 점수 개수를 eachlenList라는 리스트에 넣음\n",
    "    eachScoreList.append(sum(midtermList[i]))  #각 과목 점수 합을 eachScoreList라는 리스트에 넣음\n",
    "    totalLen = totalLen + eachLenList[i]\n",
    "    totalSum = totalSum + eachScoreList[i]\n",
    "for j in range (0, len(eachScoreList) ):         \n",
    "    if eachLenList[j] == 0:                    #총 개수(분모)가 0이 되는 경우의 평균은 0\n",
    "        avgList.append(0)\n",
    "    else:\n",
    "        avgList.append(eachScoreList[j] / eachLenList[j])   #각각의 점수/개수 를 avgList라는 리스트에 넣음\n",
    "mathAvg = avgList[0]\n",
    "korAvg = avgList[1]\n",
    "musicAvg = avgList[2]\n",
    "totalAvg = totalSum / totalLen  \n",
    "print( \" 수학점수: {} \\n 국어점수: {} \\n 음악점수: {} \\n 총 점수: {}\".\n",
    "      format(mathAvg, korAvg , musicAvg, totalAvg   ))"
   ]
  },
  {
   "cell_type": "code",
   "execution_count": 23,
   "metadata": {},
   "outputs": [
    {
     "name": "stdout",
     "output_type": "stream",
     "text": [
      "수학평균 : 30.0\n",
      "국어평균 : 0.0\n",
      "음악평균 : 40.0\n",
      " 총 평균 : 23.333333333333332\n"
     ]
    }
   ],
   "source": [
    "mathList = [20,20,40,40,30]\n",
    "korList = [0,0,0,0,0]\n",
    "musicList = [30,30,50,50,40]\n",
    "midtermList = [mathList, korList, musicList] \n",
    "totalSum = 0 #모든 점수 총합계\n",
    "eachSum = 0  #각 과목의 점수합계를 저장할 변수\n",
    "totalLength = 0  #총 길이\n",
    "\n",
    "for i in range(0, len(midtermList)):\n",
    "    for j in range(0, len(midtermList[i])):\n",
    "        totalSum = totalSum + midtermList[i][j]\n",
    "        totalLength = totalLength + 1\n",
    "        eachSum = eachSum + midtermList[i][j]\n",
    "        #한 과목의 점수합계를 totalSum, eachSum 에 저장\n",
    "        \n",
    "    if(i == 0):\n",
    "        if(len(midtermList[i])==0):\n",
    "            mathAvg = 0\n",
    "        else:\n",
    "            mathAvg = eachSum/len(midtermList[i])\n",
    "            eachSum = 0\n",
    "    elif(i == 1):\n",
    "        if(len(midtermList[i])==0):\n",
    "            korAvg = 0\n",
    "        else:\n",
    "            korAvg = eachSum/len(midtermList[i])\n",
    "            eachSum = 0\n",
    "    elif(i == 2):\n",
    "        if(len(midtermList[i])==0):\n",
    "            musicAvg = 0\n",
    "        else:\n",
    "            musicAvg = eachSum/len(midtermList[i])\n",
    "            eachSum = 0  \n",
    "    #각 과목의 평균을 변수에 저장, eachSum은 초기화, 0으로 나누는지 검사\n",
    "\n",
    "totalAvg = totalSum/totalLength\n",
    "print(\"수학평균 : {}\\n국어평균 : {}\\n음악평균 : {}\\n 총 평균 : {}\"\n",
    "      .format(mathAvg, korAvg, musicAvg, totalAvg))"
   ]
  },
  {
   "cell_type": "code",
   "execution_count": null,
   "metadata": {},
   "outputs": [],
   "source": [
    "\"[문제2 난이도 4/10 - 응용]\n",
    "\n",
    "mathList = [20,20,40,40,30]\n",
    "korList = [0,0,0,0,0]\n",
    "musicList = [30,30,50,50,40]\n",
    "\n",
    "# 중간고사\n",
    "midtermList = [ mathScore, koScore, musicScore ]\n",
    "midtermList를  활용하여 전체 평균 및 각 과목별 평균을 출력하세요\n",
    "\n",
    "[힌트]\n",
    "# 중간고사 및 과목별  총점 누적 변수\n",
    "totalSum = 0\n",
    "eachSum = 0\n",
    "#중간고사 리스트에서 각 과목 리스트 추출\n",
    "for i in range (0, len(midtermList) ):\n",
    "    eachList = midtermList[i]\n",
    "    # 각 과목 점수 리스트 계산\n",
    "    for j in range (0, len(eachList) ):\n",
    "\n",
    "mathAvg = 10\n",
    "korAvg = 10\n",
    "print( \"\" 수학점수: {} \\n 국어점수: {}  \"\".\n",
    "      format(mathAvg, korAvg   ))\""
   ]
  },
  {
   "cell_type": "code",
   "execution_count": null,
   "metadata": {},
   "outputs": [],
   "source": [
    "\"# 각 리스트의 합은 그냥 sum() 함수를 이용. 딕셔너리 사용해보고 싶어서 딕셔너리 사용해봄.\n",
    "\n",
    "mathList = [20,20,40,40,30]\n",
    "korList = [0,0,0,0,0]\n",
    "musicList = [30,30,50,50,40]\n",
    "midtermList = [mathList, korList, musicList]\n",
    "\n",
    "midtermLength = len(midtermList)\n",
    "midtermAvg =[]    # 계산해서 담을 빈 평균 리스트 생성.\n",
    "\n",
    "for i in range(0,midtermLength,):\n",
    "    if len(midtermList[i]) == 0:    # 0으로 나누게 되는 경우를 방지.\n",
    "        midtermAvg.append(0)\n",
    "    else:    # midtermList의 i번째 리스트의 합을 그 길이로 나누어 madtermAvg 리스트에 과목 평균을 추가함.\n",
    "        midtermAvg.append((sum(midtermList[i]) / len(midtermList[i])))\n",
    "\n",
    "# 전체 평균 = 과목 평균의 합 / 과목의 수\n",
    "totalAvg = sum(midtermAvg) / midtermLength\n",
    "\n",
    "# 딕셔너리 생성. 생성 안 하고 그냥 바로 midtermAvg 리스트 인덱스 사용해도 되는데 그냥 만들어봄.\n",
    "scoreAvgDic = {\"\"수학평균\"\":midtermAvg[0],\"\"국어평균\"\":midtermAvg[1],\"\"음악평균\"\":midtermAvg[2],\"\"전체평균\"\":totalAvg}\n",
    "\n",
    "print(\"\"수학평균은 {}\\n\\\n",
    "국어평균은 {}\\n\\\n",
    "음악평균은 {}\\n\\\n",
    "전체평균은 {}\"\"\\\n",
    "      .format(scoreAvgDic[\"\"수학평균\"\"],scoreAvgDic[\"\"국어평균\"\"],scoreAvgDic[\"\"음악평균\"\"],scoreAvgDic[\"\"전체평균\"\"]))\n",
    "\n",
    "\n",
    "# 각 리스트의 합을 for문을 이용해 eachSum = eachSum + eachList[j]로 돌림. 결과적으로 이중 for문 사용.\n",
    "\n",
    "mathList = [20,20,40,40,30]\n",
    "korList = [0,0,0,0,0]\n",
    "musicList = [30,30,50,50,40]\n",
    "midtermList = [mathList, korList, musicList]\n",
    "\n",
    "totalSum = 0\n",
    "eachSum = 0\n",
    "midtermAvg = []    # 계산해서 담을 빈 평균 리스트 생성.\n",
    "\n",
    "for i in range(0,len(midtermList),):\n",
    "    eachList = midtermList[i]    # midtermList의 i번째 리스트를 eachList로 정의.\n",
    "    eachSum = 0    # 두 번째 j for문이 들어가기 전에 eachSum을 0으로 초기화.\n",
    "    for j in range(0,len(eachList),):\n",
    "        if len(eachList) == 0:    # 0으로 나누게 되는 경우를 방지.\n",
    "            midtermAvg.append(0)\n",
    "        else:    # j for문을 사용해 eachList의 값을 리스트 길이만큼 누적해서 합산.\n",
    "            eachSum = eachSum + eachList[j]  \n",
    "    # 두 번째 j for문이 끝나고 밖으로 나오면 i for문의 마지막에 j for문의 결과를 사용해 midterAvg 리스트에 과목 평균 추가함.\n",
    "    midtermAvg.append(eachSum / len(eachList))\n",
    "    \n",
    "# 전체 평균 = 과목 평균의 합 / 과목의 수\n",
    "totalAvg = sum(midtermAvg) / len(midtermList)\n",
    "\n",
    "print(\"\"수학평균은 {}\\n\\\n",
    "국어평균은 {}\\n\\\n",
    "음악평균은 {}\\n\\\n",
    "전체평균은 {}\"\"\\\n",
    "      .format(midtermAvg[0],midtermAvg[1],midtermAvg[2],totalAvg))\""
   ]
  }
 ],
 "metadata": {
  "kernelspec": {
   "display_name": "Python 3",
   "language": "python",
   "name": "python3"
  },
  "language_info": {
   "codemirror_mode": {
    "name": "ipython",
    "version": 3
   },
   "file_extension": ".py",
   "mimetype": "text/x-python",
   "name": "python",
   "nbconvert_exporter": "python",
   "pygments_lexer": "ipython3",
   "version": "3.7.6"
  }
 },
 "nbformat": 4,
 "nbformat_minor": 4
}
