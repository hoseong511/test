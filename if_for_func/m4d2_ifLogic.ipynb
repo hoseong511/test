{
 "cells": [
  {
   "cell_type": "code",
   "execution_count": 1,
   "metadata": {},
   "outputs": [
    {
     "name": "stdout",
     "output_type": "stream",
     "text": [
      "[    REGIONID PRODUCTGROUP  YEARWEEK  VOLUME\n",
      "0        A01       ST0001    201415  810144\n",
      "1        A01       ST0002    201415  128999\n",
      "2        A01       ST0001    201418  671464\n",
      "3        A01       ST0002    201418  134467\n",
      "4        A01       ST0001    201413  470040\n",
      "..       ...          ...       ...     ...\n",
      "260      A01       ST0002    201614  148835\n",
      "261      A01       ST0001    201641  746061\n",
      "262      A01       ST0002    201412  151750\n",
      "263      A01       ST0001    201420  645626\n",
      "264      A01       ST0002    201420  125863\n",
      "\n",
      "[265 rows x 4 columns],     REGIONID PRODUCTGROUP  YEARWEEK  VOLUME\n",
      "0        A01       ST0001    201415  810144\n",
      "1        A01       ST0002    201415  128999\n",
      "2        A01       ST0001    201418  671464\n",
      "3        A01       ST0002    201418  134467\n",
      "4        A01       ST0001    201413  470040\n",
      "..       ...          ...       ...     ...\n",
      "260      A01       ST0002    201614  148835\n",
      "261      A01       ST0001    201641  746061\n",
      "262      A01       ST0002    201412  151750\n",
      "263      A01       ST0001    201420  645626\n",
      "264      A01       ST0002    201420  125863\n",
      "\n",
      "[265 rows x 4 columns]]\n"
     ]
    }
   ],
   "source": [
    "import pandas as pd\n",
    "\n",
    "dataSum = []\n",
    "for i in range(0, 3):\n",
    "    # i 가 1인 경우는 넘어감\n",
    "    if i == 1:\n",
    "        pass   \n",
    "    \n",
    "    else:\n",
    "        dataSum.append(\n",
    "        pd.read_csv(\"./dataset/kopo_product_volume\" + str(i) + \".csv\"))\n",
    "print(dataSum)\n",
    "    "
   ]
  },
  {
   "cell_type": "code",
   "execution_count": null,
   "metadata": {},
   "outputs": [],
   "source": []
  }
 ],
 "metadata": {
  "kernelspec": {
   "display_name": "Python 3",
   "language": "python",
   "name": "python3"
  },
  "language_info": {
   "codemirror_mode": {
    "name": "ipython",
    "version": 3
   },
   "file_extension": ".py",
   "mimetype": "text/x-python",
   "name": "python",
   "nbconvert_exporter": "python",
   "pygments_lexer": "ipython3",
   "version": "3.7.6"
  }
 },
 "nbformat": 4,
 "nbformat_minor": 4
}
