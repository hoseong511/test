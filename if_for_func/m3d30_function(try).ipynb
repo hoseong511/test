{
 "cells": [
  {
   "cell_type": "code",
   "execution_count": 3,
   "metadata": {},
   "outputs": [
    {
     "data": {
      "text/plain": [
       "2929384.123"
      ]
     },
     "execution_count": 3,
     "metadata": {},
     "output_type": "execute_result"
    }
   ],
   "source": [
    "i =2929384.1237477\n",
    "\n",
    "def roundFunction(inValue):\n",
    "    step1 = inValue * 1000\n",
    "    step2 = int(step1)\n",
    "    outValue = step2 / 1000\n",
    "    return outValue\n",
    "\n",
    "a = roundFunction(i)\n",
    "a\n"
   ]
  },
  {
   "cell_type": "code",
   "execution_count": 7,
   "metadata": {},
   "outputs": [
    {
     "data": {
      "text/plain": [
       "123.778"
      ]
     },
     "execution_count": 7,
     "metadata": {},
     "output_type": "execute_result"
    }
   ],
   "source": [
    "# 소수점 numValue자리 수까지 표현(numValue번째자리 반올림)\n",
    "\n",
    "def roundFunction(inValue,numValue):\n",
    "    step1 = inValue * (10**numValue)  \n",
    "    step2 = int(step1 + 0.5)\n",
    "    outValue = step2 / (10**numValue)\n",
    "    return outValue\n",
    "\n",
    "roundFunction(123.777777,3)"
   ]
  },
  {
   "cell_type": "code",
   "execution_count": 4,
   "metadata": {},
   "outputs": [],
   "source": [
    "from fintechlab import CommonFunction as cf"
   ]
  },
  {
   "cell_type": "code",
   "execution_count": null,
   "metadata": {},
   "outputs": [],
   "source": [
    "cf.preWeek(202001, 2)"
   ]
  },
  {
   "cell_type": "markdown",
   "metadata": {},
   "source": [
    "# 실습 문제\n",
    "\"리스트를 인수로 받아서 최대, 최소값을뺀\n",
    "평균을 구하는 함수를 생성하세요.\n",
    "\""
   ]
  },
  {
   "cell_type": "code",
   "execution_count": 4,
   "metadata": {},
   "outputs": [
    {
     "data": {
      "text/plain": [
       "35248.91490376756"
      ]
     },
     "execution_count": 4,
     "metadata": {},
     "output_type": "execute_result"
    }
   ],
   "source": [
    "\n",
    "import pandas as pd\n",
    "customerData = pd.read_csv(\"./dataset/kopo_customerdata.csv\")\n",
    "totalList = customerData[\"TOTAL_AMOUNT\"].tolist()\n",
    "\n",
    "def avgFunction(listValue):\n",
    "    listMax = max(listValue)\n",
    "    listMin = min(listValue)\n",
    "    maxCount = listValue.count(listMax)\n",
    "    minCount = listValue.count(listMin)\n",
    "    listValueSum = 0             # 총 합\n",
    "    listValueLen = 0             # 총 개수\n",
    "\n",
    "    for i in range(0, len(listValue)):\n",
    "        if (listValue[i] == listMax) | (listValue[i] == listMin):  \n",
    "            pass                                  # 리스트 안에 최대값 또는 최소값은 pass\n",
    "\n",
    "        else:\n",
    "            listValueSum = listValueSum + listValue[i] # 총 합에 저장\n",
    "            listValueLen = listValueLen + 1            # 총 개수에 저장\n",
    "\n",
    "    if len(listValue)-maxCount-minCount == 0:   #개수가 0인지 검사\n",
    "        avg = 0\n",
    "    else:\n",
    "        avg = listValueSum / listValueLen\n",
    "\n",
    "    return avg\n",
    "avgFunction(totalList)\n"
   ]
  },
  {
   "cell_type": "code",
   "execution_count": 26,
   "metadata": {},
   "outputs": [
    {
     "name": "stdout",
     "output_type": "stream",
     "text": [
      "['20', '2014', 'PRODUCT1', 'PRODUCT2', '17', '9', 'A01', 'A02', 'CHANNEL_RESULT', '2014', '2016', '2016']\n"
     ]
    }
   ],
   "source": [
    "import pandas as pd\n",
    "parameterList = pd.read_csv(\"./dataset/kopo_parameter.csv\")\n",
    "paraValueList = parameterList[\"PARAM_VALUE\"].tolist()\n",
    "print(paraValueList)"
   ]
  },
  {
   "cell_type": "code",
   "execution_count": 28,
   "metadata": {},
   "outputs": [
    {
     "ename": "ValueError",
     "evalue": "invalid literal for int() with base 10: 'PRODUCT1'",
     "output_type": "error",
     "traceback": [
      "\u001b[1;31m---------------------------------------------------------------------------\u001b[0m",
      "\u001b[1;31mValueError\u001b[0m                                Traceback (most recent call last)",
      "\u001b[1;32m<ipython-input-28-bfeba948f026>\u001b[0m in \u001b[0;36m<module>\u001b[1;34m\u001b[0m\n\u001b[1;32m----> 1\u001b[1;33m \u001b[0mtype\u001b[0m\u001b[1;33m(\u001b[0m\u001b[0mint\u001b[0m\u001b[1;33m(\u001b[0m\u001b[0mparaValueList\u001b[0m\u001b[1;33m[\u001b[0m\u001b[1;36m2\u001b[0m\u001b[1;33m]\u001b[0m\u001b[1;33m)\u001b[0m\u001b[1;33m)\u001b[0m \u001b[1;33m==\u001b[0m \u001b[0merror\u001b[0m\u001b[1;33m\u001b[0m\u001b[1;33m\u001b[0m\u001b[0m\n\u001b[0m",
      "\u001b[1;31mValueError\u001b[0m: invalid literal for int() with base 10: 'PRODUCT1'"
     ]
    }
   ],
   "source": [
    "type(int(paraValueList[2])) == error"
   ]
  },
  {
   "cell_type": "code",
   "execution_count": 2,
   "metadata": {},
   "outputs": [
    {
     "data": {
      "text/plain": [
       "1000"
      ]
     },
     "execution_count": 2,
     "metadata": {},
     "output_type": "execute_result"
    }
   ],
   "source": [
    "# 입력 파라미터\n",
    "strList = [ '1', '10', '10', '10']\n",
    "def strCountFunction(listValue,inOption):\n",
    "    # 옵션 0(합) or 1(곱)\n",
    "#     inOption = 0\n",
    "    # 로직\n",
    "    listValueLen = len(listValue)\n",
    "    sumation = 0\n",
    "    for i in range(0,listValueLen):\n",
    "        listValueInt = int(listValue[i])\n",
    "        if inOption == 0:\n",
    "            sumation = sumation + listValueInt\n",
    "        else:\n",
    "            if i == 0:\n",
    "                sumation = 1\n",
    "            sumation = sumation * listValueInt\n",
    "            \n",
    "    return sumation\n",
    "strCountFunction(strList,1)\n",
    "    "
   ]
  },
  {
   "cell_type": "code",
   "execution_count": null,
   "metadata": {},
   "outputs": [],
   "source": [
    "\"def avgFunc(inputList):\n",
    "    listLength = len(inputList)        #길이를 변수에 저장\n",
    "    \n",
    "    for i in range(0, listLength):\n",
    "        inputList[i] = int(inputList[i])\n",
    "    #혹시 문자열이 리스트내에 있으면 정수로 변환\n",
    "    \n",
    "    maxValue = max(inputList)   #최대최소값 저장\n",
    "    minValue = min(inputList)\n",
    "    avgList = []            #결과 저장 리스트 선언\n",
    "    \n",
    "    for i in range(0, listLength):\n",
    "        if(inputList[i]!=maxValue and inputList[i]!=minValue):\n",
    "            avgList.append(inputList[i])\n",
    "    #최대최소값 제외하고 결과리스트에 저장\n",
    "            \n",
    "    avgListLength = len(avgList) #결과리스트의 길이\n",
    "    \n",
    "    if(avgListLength==0):\n",
    "        return 0\n",
    "    else:\n",
    "        return sum(avgList)/avgListLength\n",
    "    # 0으로 나누는지 검사해서 결과 반환\n",
    "    \n",
    "testList = [\"\"1\"\",2,3,\"\"4\"\",9999]\n",
    "avgFunc(testList)\""
   ]
  }
 ],
 "metadata": {
  "kernelspec": {
   "display_name": "Python 3",
   "language": "python",
   "name": "python3"
  },
  "language_info": {
   "codemirror_mode": {
    "name": "ipython",
    "version": 3
   },
   "file_extension": ".py",
   "mimetype": "text/x-python",
   "name": "python",
   "nbconvert_exporter": "python",
   "pygments_lexer": "ipython3",
   "version": "3.7.6"
  }
 },
 "nbformat": 4,
 "nbformat_minor": 4
}
