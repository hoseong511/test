{
 "cells": [
  {
   "cell_type": "code",
   "execution_count": null,
   "metadata": {},
   "outputs": [],
   "source": [
    "import cFunction as cf # 함수 몽땅 가져오기\n",
    "from cFunction import listValue # 특정 함수만 가져오기\n"
   ]
  },
  {
   "cell_type": "code",
   "execution_count": 29,
   "metadata": {},
   "outputs": [
    {
     "name": "stdout",
     "output_type": "stream",
     "text": [
      "2017\n",
      "52\n",
      "72\n"
     ]
    }
   ],
   "source": [
    "yearWeek = \"201720\"\n",
    "\n",
    "from isoweek import Week\n",
    "year = int(int(yearWeek) /100)\n",
    "week = int(yearWeek) - year*100\n",
    "\n",
    "currWeek = Week.last_week_of_year(year).week\n",
    "\n",
    "print(year)\n",
    "print(currWeek)\n",
    "print(currWeek + week)"
   ]
  },
  {
   "cell_type": "code",
   "execution_count": null,
   "metadata": {},
   "outputs": [],
   "source": []
  },
  {
   "cell_type": "code",
   "execution_count": 52,
   "metadata": {},
   "outputs": [
    {
     "name": "stdout",
     "output_type": "stream",
     "text": [
      "52\n",
      "201622\n",
      "28\n"
     ]
    }
   ],
   "source": [
    "# def preWeek(yearValue,preNum):\n",
    "yearWeekValue = \"201720\"\n",
    "preNum = 50\n",
    "from isoweek import Week\n",
    "year = int(int(yearWeekValue) /100)\n",
    "week = int(yearWeekValue) - year*100\n",
    "\n",
    "\n",
    "if preNum - week < 0:\n",
    "    result = int(yearWeekValue) - preNum\n",
    "elif preNum - week >= 0:\n",
    "    \n",
    "    for i in range(0,):\n",
    "        currWeek = Week.last_week_of_year(year-i).week\n",
    "\n",
    "    elif  week == preNum:\n",
    "        result =year1 + currWeek\n",
    "    else:\n",
    "\n",
    "\n",
    "\n",
    "        year1 = year - 1\n",
    "\n",
    "\n",
    "        i = 1\n",
    "        while i <= currWeek + week -preNum:\n",
    "\n",
    "            result = (year-1) * 100 + i\n",
    "            i = i + 1\n",
    "    print(currWeek)\n",
    "    print(result)    \n",
    "    print(80 % currWeek)\n",
    "# totalWeek = currWeek + week\n",
    "# preTotalWeek = totalWeek - preNum\n",
    "# yearWeekResult = year*100 +(preTotalWeek - currWeek)\n",
    "\n",
    "# print(year, currWeek, \"total \", totalWeek)\n",
    "\n",
    "\n",
    "# print(preTotalWeek)\n",
    "# print(yearWeekResult)"
   ]
  },
  {
   "cell_type": "code",
   "execution_count": 79,
   "metadata": {},
   "outputs": [
    {
     "data": {
      "text/plain": [
       "'201452'"
      ]
     },
     "execution_count": 79,
     "metadata": {},
     "output_type": "execute_result"
    }
   ],
   "source": [
    "# yearWeekValue = \"201652\"\n",
    "# preNum = 53\n",
    "def preWeek (yearWeekValue, preNum):\n",
    "# isoweek라는 함수꾸러미에서 Week함수 가져오기\n",
    "    from isoweek import Week    \n",
    "#입력받은 년도+주차(ex.201720)에서 정수로 변환 후 2017.20으로 만든 후 정수화해서 소수점아래 날리기\n",
    "    year = int(int(yearWeekValue) /100) \n",
    "# year * 100 하면 201700이 되고 201720에서 빼면 그게 주차(20)\n",
    "    week = int(yearWeekValue) - year*100 \n",
    "\n",
    "# week에서 입력받은 preNum(ex.100)을 뺀 값이 0보다 커질 때 까지 반복\n",
    "    while week - preNum <=0:     \n",
    "        year = year - 1\n",
    "        currWeek = Week.last_week_of_year(year).week\n",
    "        week = week + currWeek\n",
    "# 결과\n",
    "    result = year*100 + week -preNum\n",
    "    resultStr = str(result)\n",
    "    return resultStr\n",
    "preWeek(201720,125)"
   ]
  },
  {
   "cell_type": "code",
   "execution_count": 82,
   "metadata": {},
   "outputs": [],
   "source": [
    "if week > preNum:\n",
    "    result = int(yearWeekValue) - preNum \n",
    "else:    "
   ]
  },
  {
   "cell_type": "code",
   "execution_count": 82,
   "metadata": {
    "jupyter": {
     "source_hidden": true
    }
   },
   "outputs": [
    {
     "name": "stdout",
     "output_type": "stream",
     "text": [
      "201526\n"
     ]
    }
   ],
   "source": [
    "    \n",
    "    preYear = year - (int(preNum/currWeek) + 1)\n",
    "    for i in range(0,):\n",
    "        preYear.append(year - (int(preNum/currWeek) + 1))\n",
    "        for j in range(0,len(preYear)):\n",
    "            currWeek = Week.last_week_of_year(preYear[j]).week\n",
    "            result = result + currWeek\n",
    "    result = result + (preYear *100) + week -preNum\n",
    "\n",
    "print(result)"
   ]
  },
  {
   "cell_type": "code",
   "execution_count": 19,
   "metadata": {
    "jupyter": {
     "source_hidden": true
    }
   },
   "outputs": [
    {
     "data": {
      "text/plain": [
       "'201525'"
      ]
     },
     "execution_count": 19,
     "metadata": {},
     "output_type": "execute_result"
    }
   ],
   "source": [
    "def preWeek (yearWeekValue, preNum):\n",
    "# isoweek라는 함수꾸러미에서 Week함수 가져오기\n",
    "    from isoweek import Week\n",
    "    preNum = int(preNum)\n",
    "#입력받은 년도+주차(ex.201720)에서 정수로 변환 후 2017.20으로 만든 후 정수화해서 소수점아래 날리기\n",
    "    year = int(int(yearWeekValue) /100) \n",
    "# year * 100 하면 201700이 되고 201720에서 빼면 그게 주차(20)\n",
    "    week = int(yearWeekValue) - year*100 \n",
    "\n",
    "# week에서 입력받은 preNum(ex.100)을 뺀 값이 0보다 커질 때 까지 반복\n",
    "    while week - preNum <=0:     \n",
    "        year = year - 1\n",
    "        currWeek = Week.last_week_of_year(year).week\n",
    "        week = week + currWeek\n",
    "# 결과\n",
    "    result = year*100 + week - preNum\n",
    "    resultStr = str(result)\n",
    "    return resultStr\n",
    "preWeek(201720,\"100\")"
   ]
  },
  {
   "cell_type": "code",
   "execution_count": 1,
   "metadata": {},
   "outputs": [
    {
     "name": "stdout",
     "output_type": "stream",
     "text": [
      "52\n",
      "209\n"
     ]
    },
    {
     "data": {
      "text/plain": [
       "'202053'"
      ]
     },
     "execution_count": 1,
     "metadata": {},
     "output_type": "execute_result"
    }
   ],
   "source": [
    "from isoweek import Week\n",
    "yearWeekValue = 201701\n",
    "num = 52 + 51 + 1 + 51 +1 + 52\n",
    "year = int(int(yearWeekValue) /100) \n",
    "week = int(yearWeekValue) - year*100 \n",
    "currWeek = Week.last_week_of_year(year).week\n",
    "print(currWeek)\n",
    "week = week + num\n",
    "print(week)\n",
    "while week > currWeek:\n",
    "    week = week - currWeek\n",
    "    year = year + 1\n",
    "    currWeek = Week.last_week_of_year(year).week\n",
    "\n",
    "result = year*100 + week\n",
    "resultStr = str(result)\n",
    "resultStr\n"
   ]
  },
  {
   "cell_type": "code",
   "execution_count": null,
   "metadata": {},
   "outputs": [],
   "source": []
  }
 ],
 "metadata": {
  "kernelspec": {
   "display_name": "Python 3",
   "language": "python",
   "name": "python3"
  },
  "language_info": {
   "codemirror_mode": {
    "name": "ipython",
    "version": 3
   },
   "file_extension": ".py",
   "mimetype": "text/x-python",
   "name": "python",
   "nbconvert_exporter": "python",
   "pygments_lexer": "ipython3",
   "version": "3.7.6"
  }
 },
 "nbformat": 4,
 "nbformat_minor": 4
}
