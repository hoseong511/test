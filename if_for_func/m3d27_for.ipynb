{
 "cells": [
  {
   "cell_type": "code",
   "execution_count": 21,
   "metadata": {},
   "outputs": [],
   "source": [
    "tvList2 = [\"UN40EN001\", \"UN40EN002\",\\\n",
    "         \"UN40EN003\", \"UN40EN004\"]\n",
    "preFix = \"LEDTV_\"\n",
    "\n",
    "tvList2Len = len(tvList2)\n",
    "\n",
    "# for i in range(0,tvList2Len):\n",
    "#     tvList2[i] = preFix + tvList2[i] \n",
    "\n",
    "i = 0"
   ]
  },
  {
   "cell_type": "code",
   "execution_count": 23,
   "metadata": {},
   "outputs": [],
   "source": [
    "i = 2"
   ]
  },
  {
   "cell_type": "code",
   "execution_count": 24,
   "metadata": {},
   "outputs": [
    {
     "name": "stdout",
     "output_type": "stream",
     "text": [
      "LEDTV_LEDTV_UN40EN003\n",
      "['LEDTV_UN40EN001', 'LEDTV_UN40EN002', 'LEDTV_LEDTV_UN40EN003', 'LEDTV_UN40EN004']\n"
     ]
    }
   ],
   "source": [
    "tvList2[i] = preFix + tvList2[i]\n",
    "print(tvList2[i])\n",
    "\n",
    "print(tvList2)"
   ]
  },
  {
   "cell_type": "code",
   "execution_count": 21,
   "metadata": {},
   "outputs": [
    {
     "name": "stdout",
     "output_type": "stream",
     "text": [
      "LEDTV_UN40EN001\n",
      "LEDTV_UN40EN002\n",
      "LEDTV_UN40EN003\n",
      "LEDTV_UN40EN004\n",
      "['LEDTV_UN40EN001', 'LEDTV_UN40EN002', 'LEDTV_UN40EN003', 'LEDTV_UN40EN004']\n"
     ]
    }
   ],
   "source": [
    "while ( i < tvList2Len ):\n",
    "    tvList2[i] = preFix + tvList2[i]\n",
    "    print(tvList2[i])\n",
    "    i = i+1\n",
    "print(tvList2)"
   ]
  },
  {
   "cell_type": "markdown",
   "metadata": {},
   "source": [
    "# 추가문제"
   ]
  },
  {
   "cell_type": "code",
   "execution_count": 1,
   "metadata": {},
   "outputs": [
    {
     "data": {
      "text/plain": [
       "79.0"
      ]
     },
     "execution_count": 1,
     "metadata": {},
     "output_type": "execute_result"
    }
   ],
   "source": [
    "scoreList = [70,60,55,75,95,90,80,80,85,100]\n",
    "\n",
    "sumation = 0\n",
    "for i in range(0,len(scoreList)):\n",
    "    sumation += scoreList[i]\n",
    "avg = sumation / len(scoreList)\n",
    "avg\n"
   ]
  },
  {
   "cell_type": "code",
   "execution_count": 1,
   "metadata": {},
   "outputs": [
    {
     "name": "stdout",
     "output_type": "stream",
     "text": [
      "35248.91490376756\n"
     ]
    }
   ],
   "source": [
    "\n",
    "import pandas as pd\n",
    "\n",
    "dataList = pd.read_csv(\"./dataset/kopo_customerdata.csv\")\n",
    "totalList = dataList[\"TOTAL_AMOUNT\"].tolist()\n",
    "totalMax = max(totalList)\n",
    "totalMin = min(totalList)\n",
    "maxCount = totalList.count(totalMax)\n",
    "minCount = totalList.count(totalMin)\n",
    "totalListSum = 0             # 총 합\n",
    "totalListLen = 0             # 총 개수\n",
    "\n",
    "for i in range(0, len(totalList)):\n",
    "    if (totalList[i] == totalMax) | (totalList[i] == totalMin):  \n",
    "        pass                                  # 리스트 안에 최대값 또는 최소값은 pass\n",
    "    \n",
    "    else:\n",
    "        totalListSum = totalListSum + totalList[i]\n",
    "        totalListLen = totalListLen + 1\n",
    "if len(totalList)-maxCount-minCount == 0:   #개수가 0인지 검사\n",
    "    avg = 0\n",
    "else:\n",
    "    avg = totalListSum / totalListLen\n",
    "print(avg)\n"
   ]
  },
  {
   "cell_type": "code",
   "execution_count": 4,
   "metadata": {},
   "outputs": [
    {
     "name": "stdout",
     "output_type": "stream",
     "text": [
      "35248.91490376756\n",
      "35248.91490376756\n",
      "35248.91490376756\n",
      "35248.91490376756\n",
      "35248.91490376756\n",
      "35248.91490376756\n",
      "35248.91490376756\n",
      "35248.91490376756\n",
      "409 ms ± 15.2 ms per loop (mean ± std. dev. of 7 runs, 1 loop each)\n"
     ]
    }
   ],
   "source": [
    "%%timeit\n",
    "import pandas as pd\n",
    "\n",
    "dataList = pd.read_csv(\"./dataset/kopo_customerdata.csv\")\n",
    "totalList = dataList[\"TOTAL_AMOUNT\"].tolist()\n",
    "totalMax = max(totalList)\n",
    "totalMin = min(totalList)\n",
    "totalListSum = 0             # 총 합\n",
    "totalListLen = 0             # 총 개수\n",
    "\n",
    "i = 0\n",
    "while i < len(totalList):\n",
    "    if (totalList[i] == totalMax) | (totalList[i] == totalMin):  \n",
    "        pass                                  # 리스트 안에 최대값 또는 최소값은 pass\n",
    "    else:\n",
    "        totalListSum = totalListSum + totalList[i]\n",
    "        totalListLen = totalListLen + 1\n",
    "    i = i + 1\n",
    "    \n",
    "avg = totalListSum / totalListLen\n",
    "print(avg)\n"
   ]
  },
  {
   "cell_type": "code",
   "execution_count": 3,
   "metadata": {},
   "outputs": [
    {
     "name": "stdout",
     "output_type": "stream",
     "text": [
      "35248.91490376756\n"
     ]
    }
   ],
   "source": [
    "import pandas as pd\n",
    "\n",
    "kopoList = pd.read_csv(\"./dataset/kopo_customerdata.csv\")[\"TOTAL_AMOUNT\"].tolist()\n",
    "#csv 파일의 TOTAL_AMOUNT 행을 리스트로 만들어서 kopoList에 저장\n",
    "\n",
    "kopoMin = min(kopoList) #최소값\n",
    "kopoMax = max(kopoList) #최대값\n",
    "kopoList2 = []          #저장용 리스트 선언\n",
    "\n",
    "for i in range (0,len(kopoList)):\n",
    "    if(kopoList[i] != kopoMin and kopoList[i] != kopoMax):\n",
    "        kopoList2.append(kopoList[i])\n",
    "        #최소값도, 최대값도 아니라면 저장용리스트에 저장\n",
    "        \n",
    "if(len(kopoList2) == 0):\n",
    "    average = 0\n",
    "else:\n",
    "    average = sum(kopoList2)/len(kopoList2)\n",
    "# 0으로 나누는지 검사\n",
    "\n",
    "print(average)"
   ]
  },
  {
   "cell_type": "code",
   "execution_count": 3,
   "metadata": {},
   "outputs": [
    {
     "data": {
      "text/plain": [
       "35248.91490376756"
      ]
     },
     "execution_count": 3,
     "metadata": {},
     "output_type": "execute_result"
    }
   ],
   "source": [
    "# 지난번 배운 정렬 활용하고 수학 부분만 for문 돌려봤습니다.\n",
    "\n",
    "import pandas as pd \n",
    "customerData = pd.read_csv(\"./dataset//kopo_customerdata.csv\") \n",
    "customerTotalList = customerData[\"TOTAL_AMOUNT\"].tolist() \n",
    "\n",
    "# 리스트 오름차순 정렬, 리스트의 전체 개수와 최솟값과 최댓값의 중복 개수를 정의.\n",
    "customerTotalList.sort()\n",
    "minDuplication = customerTotalList.count(min(customerTotalList))\n",
    "maxDuplication = customerTotalList.count(max(customerTotalList))\n",
    "\n",
    "# 최댓값, 최솟값 중복이 사라진 새 리스트 생성\n",
    "customerTotalList = customerTotalList[minDuplication : len(customerTotalList) - maxDuplication]\n",
    "\n",
    "# 이 부분만 for문으로 바꿔서 아래 for문과 속도를 비교해봄.\n",
    "customerSum = 0\n",
    "for i in range(0, len(customerTotalList),):\n",
    "    customerSum = customerSum + customerTotalList[i]\n",
    "\n",
    "if customerTotalList == 0:\n",
    "    average = 0\n",
    "else:\n",
    "    average = customerSum / len(customerTotalList)\n",
    "average"
   ]
  }
 ],
 "metadata": {
  "kernelspec": {
   "display_name": "Python 3",
   "language": "python",
   "name": "python3"
  },
  "language_info": {
   "codemirror_mode": {
    "name": "ipython",
    "version": 3
   },
   "file_extension": ".py",
   "mimetype": "text/x-python",
   "name": "python",
   "nbconvert_exporter": "python",
   "pygments_lexer": "ipython3",
   "version": "3.7.6"
  }
 },
 "nbformat": 4,
 "nbformat_minor": 4
}
