{
 "cells": [
  {
   "cell_type": "code",
   "execution_count": 1,
   "metadata": {},
   "outputs": [
    {
     "data": {
      "text/plain": [
       "'LEDTV_UN40EN001'"
      ]
     },
     "execution_count": 1,
     "metadata": {},
     "output_type": "execute_result"
    }
   ],
   "source": [
    "testModel = \"UN40EN001\"\n",
    "preFix = \"LEDTV_\"\n",
    "\n",
    "if testModel.count(preFix) == 0:\n",
    "    testModel = preFix + testModel\n",
    "else:\n",
    "    pass\n",
    "\n",
    "testModel"
   ]
  },
  {
   "cell_type": "code",
   "execution_count": 2,
   "metadata": {},
   "outputs": [
    {
     "data": {
      "text/plain": [
       "False"
      ]
     },
     "execution_count": 2,
     "metadata": {},
     "output_type": "execute_result"
    }
   ],
   "source": [
    "testModel.count(preFix) == 0"
   ]
  },
  {
   "cell_type": "markdown",
   "metadata": {},
   "source": [
    "## 문제 풀자"
   ]
  },
  {
   "cell_type": "markdown",
   "metadata": {},
   "source": [
    "#### 다중조건 중 소문자로 들어온 경우에도 처리가능하게 해결해보기"
   ]
  },
  {
   "cell_type": "code",
   "execution_count": 15,
   "metadata": {},
   "outputs": [
    {
     "name": "stdout",
     "output_type": "stream",
     "text": [
      "['LEDTV_UN40EN001', 'LEDTV_UN40EN002', 'LEDTV_UN40EN003', 'LEDTV_UN40EN004']\n"
     ]
    }
   ],
   "source": [
    "tvList2 = [\"UN40EN001\", \"LEDTV_un40en002\",\\\n",
    "         \"LEDTV_LEDTV_UN40EN003\", \"ledtv_UN40EN004\"]\n",
    "preFix = \"LEDTV_\"\n",
    "\n",
    "for i in range(0,len(tvList2)):\n",
    "    tvList2[i] = tvList2[i].upper()\n",
    "    if (tvList2[i].count(preFix) >= 2):\n",
    "        tvList2[i] = tvList2[i].replace(preFix,\"\")\n",
    "        tvList2[i] = preFix + tvList2[i] #다시 tvList2[i]에 넣어주는 의미\n",
    "    elif (tvList2[i].count(preFix) == 1):\n",
    "        pass\n",
    "    else :\n",
    "#          tvList2[i] = tvList2[i].upper().replace(preFix,\"\")# 이렇게 하면 예외가 발생함! 예를들어 \\\n",
    "                                                             # LEDTV_ledtv_UN40EN001 의 경우에는 \\\n",
    "                                                             # preFix 카운팅이 됨 그리고 완전 소문자\\\n",
    "                                                             # 일 경우에도 문제가 발생\n",
    "        \n",
    "        tvList2[i] = preFix + tvList2[i]\n",
    "\n",
    "print(tvList2)"
   ]
  },
  {
   "cell_type": "code",
   "execution_count": 1,
   "metadata": {},
   "outputs": [
    {
     "name": "stdout",
     "output_type": "stream",
     "text": [
      "['LEDTV_UN40EN001', 'LEDTV_UN40EN002', 'LEDTV_UN40EN003', 'LEDTV_UN40EN004']\n"
     ]
    }
   ],
   "source": [
    "tvList2 = [\"UN40EN001\", \"LEDTV_un40en002\",\\\n",
    "         \"LEDTV_LEDTV_UN40EN003\", \"ledtv_UN40EN004\"]\n",
    "preFix = \"LEDTV_\"\n",
    "spliter = \"_\"\n",
    "for i in range(0,len(tvList2)):\n",
    "    tvList2[i] = tvList2[i].upper()\n",
    "    tvList2Spli = tvList2[i].split(spliter)\n",
    "\n",
    "    tvList2[i] = preFix + tvList2Spli[len(tvList2Spli)-1]\n",
    "\n",
    "print(tvList2)"
   ]
  },
  {
   "cell_type": "code",
   "execution_count": 9,
   "metadata": {},
   "outputs": [],
   "source": [
    "nationList = ['A01','한국','A02','미국','A03','프랑스']\n",
    "\n",
    "\n",
    "for i in range(0,len(nationList)):\n",
    "    integer = type(int(nationList[i][-1]))\n",
    "    print(integer)\n",
    "\n",
    "    if (nationList[i].count(\"A\") >= 1):\n",
    "        print(nationList[i])\n",
    "    else:\n",
    "        pass"
   ]
  },
  {
   "cell_type": "code",
   "execution_count": 32,
   "metadata": {},
   "outputs": [
    {
     "name": "stdout",
     "output_type": "stream",
     "text": [
      "<class 'int'>\n",
      "90\n",
      "A01\n",
      "A02\n",
      "A03\n",
      "B33\n",
      "Z34353250\n",
      "asd12341\n"
     ]
    }
   ],
   "source": [
    "nationList = ['A01','한국','A02','미국','A03','프랑스','B33','Z34353250','asd12341','ko']\n",
    "\n",
    "print(type(ord(\"A\")))\n",
    "print(ord(\"Z\"))\n",
    "for i in range(0,len(nationList)):\n",
    "    chrNum = nationList[i][-1]\n",
    "    \n",
    "    if chrNum ==\"0\":\n",
    "        print(nationList[i])\n",
    "\n",
    "    elif chrNum == \"1\":\n",
    "        print(nationList[i])\n",
    "    elif chrNum == \"2\":\n",
    "        print(nationList[i])\n",
    "    elif chrNum == \"3\":\n",
    "        print(nationList[i])\n",
    "    elif chrNum == \"4\":\n",
    "        print(nationList[i])\n",
    "    elif chrNum == \"5\":\n",
    "        print(nationList[i])\n",
    "    elif chrNum == \"6\":\n",
    "        print(nationList[i])\n",
    "    elif chrNum == \"7\":\n",
    "        print(nationList[i])\n",
    "    elif chrNum == \"8\":\n",
    "        print(nationList[i])\n",
    "    elif chrNum == \"9\":\n",
    "        print(nationList[i])\n",
    "    \n",
    "    else:\n",
    "        pass"
   ]
  },
  {
   "cell_type": "code",
   "execution_count": 11,
   "metadata": {},
   "outputs": [
    {
     "name": "stdout",
     "output_type": "stream",
     "text": [
      "B\n"
     ]
    }
   ],
   "source": [
    "score = 80\n",
    "\n",
    "if score >= 90:\n",
    "    grade = \"A\"\n",
    "elif score >= 80:\n",
    "    grade = \"B\"\n",
    "else:\n",
    "    grade = \"C\"\n",
    "print(grade)"
   ]
  },
  {
   "cell_type": "markdown",
   "metadata": {},
   "source": [
    "### 3.28 if문제 추가"
   ]
  },
  {
   "cell_type": "code",
   "execution_count": 2,
   "metadata": {},
   "outputs": [
    {
     "name": "stdout",
     "output_type": "stream",
     "text": [
      "GAS_2018_GAMODEL001\n",
      "GAS_2016_GAMODEL002\n",
      "ELEC_2015_ELMODEL001\n",
      "ELEC_2020_MODEL041\n",
      "GAS_2020_MODEL022\n",
      "ELEC_2020_MODEL027\n",
      "GAS_2020_MODEL055\n",
      "ELEC_2020_MODEL023\n"
     ]
    }
   ],
   "source": [
    "\n",
    "modelList = ['2018_GAMODEL001', '2016_GAMODEL002', \n",
    "            '2015_ELMODEL001', '2020_MODEL041', \n",
    "            '2020_MODEL022', '2020_MODEL027',\n",
    "            '2020_MODEL055', '2020_MODEL023']\n",
    "\n",
    "preFixGas = \"GAS_\"\n",
    "preFixElec = \"ELEC_\"\n",
    "spliter = \"_\"\n",
    "numChar = 2\n",
    "\n",
    "for i in range(0, len(modelList)):                               \n",
    "    modelYear = int(modelList[i].split(spliter)[0])              #연도\n",
    "    modelClass2018 = modelList[i].split(spliter)[1][:numChar]    #2018년 이전 가스/전기(GA/EL)\n",
    "    modelClass2019 = int(modelList[i].split(spliter)[1][-numChar:])   #2019년 이후 가스/전기(홀/짝)\n",
    "    oddEvenModel = int(modelClass2019 / 10) + modelClass2019 % 10 # int( /10) 십의 자리수, %10은 일의 자리수홀/짝\n",
    "    \n",
    "\n",
    "    if modelYear <= 2018:                                        # 연도구분\n",
    "        \n",
    "        if modelClass2018 == \"GA\" :                    # 2018년 이전 가스/전기 조건\n",
    "            modelList[i] = preFixGas + modelList[i]\n",
    "        else:\n",
    "            modelList[i] = preFixElec + modelList[i]  \n",
    "        \n",
    "    else:\n",
    "        if oddEvenModel % 2 == 0:                     # 2019년 이후 가스/전기 조건 뒤에 2자리 합 짝/홀\n",
    "            modelList[i] = preFixGas + modelList[i]\n",
    "        else:\n",
    "            modelList[i] = preFixElec + modelList[i]\n",
    "            \n",
    "    print(modelList[i])\n",
    "        \n",
    "        \n",
    "    "
   ]
  },
  {
   "cell_type": "code",
   "execution_count": null,
   "metadata": {},
   "outputs": [],
   "source": [
    "\"modelList = \\\n",
    "[\"\"2018_GAMODEL001\"\",\n",
    " \"\"2016_GAMODEL002\"\",\n",
    " \"\"2015_ELMODEL001\"\",\n",
    " \"\"2020_MODEL041\"\",\n",
    " \"\"2020_MODEL022\"\",\n",
    " \"\"2020_MODEL027\"\",\n",
    " \"\"2020_MODEL055\"\",\n",
    " \"\"2020_MODEL023\"\"]\n",
    "modelListLen = len(modelList) #총 길이\n",
    "gasModel = \"\"GAS_\"\"             #가스건조기, 전기건조기 붙일 문자열 선언\n",
    "elecModel = \"\"ELEC_\"\"\n",
    "\n",
    "modelListYear = []            #연도를 저장할 리스트\n",
    "modelListModel = []           #모델명을 저장할 리스트\n",
    "\n",
    "for i in range(0, modelListLen):\n",
    "    modelListYear.append(modelList[i].split(\"\"_\"\")[0])  #연도만 잘라서 저장\n",
    "    modelListModel.append(modelList[i].split(\"\"_\"\")[1]) #모델명만 잘라서 저장\n",
    "    \n",
    "    if(int(modelListYear[i]) < 2019 and modelListModel[i][:2] == 'GA'):\n",
    "        modelList[i] = gasModel + modelList[i]\n",
    "        #19년 이전, 모델 앞자리가 GA 면 가스모델 문자열을 붙임\n",
    "        \n",
    "    elif(int(modelListYear[i]) < 2019 and modelListModel[i][:2] == 'EL'):\n",
    "        modelList[i] = elecModel + modelList[i]\n",
    "        #19년 이전, 모델 앞자리가 EL 이면 전기모델 문자열을 붙임\n",
    "        \n",
    "    elif(int(modelListYear[i]) >= 2019 and\\\n",
    "        (int(modelListModel[i][-1])+int(modelListModel[i][-2]))%2 == 0):\n",
    "        modelList[i] = gasModel + modelList[i]\n",
    "        #19년 이후, 모델 뒤자리수2개를 더해서 짝수면 가스모델\n",
    "        \n",
    "    elif(int(modelListYear[i]) >= 2019 and\\\n",
    "        (int(modelListModel[i][-1])+int(modelListModel[i][-2]))%2 == 1):\n",
    "        modelList[i] = elecModel + modelList[i]\n",
    "        #19년 이후, 모델 뒤자리수2개를 더해서 홀수면 전기모델        \n",
    "modelList\n",
    "\""
   ]
  },
  {
   "cell_type": "code",
   "execution_count": 5,
   "metadata": {},
   "outputs": [
    {
     "name": "stdout",
     "output_type": "stream",
     "text": [
      "6\n"
     ]
    },
    {
     "data": {
      "text/plain": [
       "'1'"
      ]
     },
     "execution_count": 5,
     "metadata": {},
     "output_type": "execute_result"
    }
   ],
   "source": [
    "yearweek = '201801'\n",
    "num = len(yearweek)\n",
    "print(num)          #일관성있게 '-'사용하기\n",
    "yearweek[:0]\n",
    "yearweek[len(yearweek)-1]"
   ]
  }
 ],
 "metadata": {
  "kernelspec": {
   "display_name": "Python 3",
   "language": "python",
   "name": "python3"
  },
  "language_info": {
   "codemirror_mode": {
    "name": "ipython",
    "version": 3
   },
   "file_extension": ".py",
   "mimetype": "text/x-python",
   "name": "python",
   "nbconvert_exporter": "python",
   "pygments_lexer": "ipython3",
   "version": "3.7.6"
  }
 },
 "nbformat": 4,
 "nbformat_minor": 4
}
