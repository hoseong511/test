{
 "cells": [
  {
   "cell_type": "code",
   "execution_count": 10,
   "metadata": {},
   "outputs": [
    {
     "name": "stdout",
     "output_type": "stream",
     "text": [
      "50000\n"
     ]
    },
    {
     "ename": "NameError",
     "evalue": "name 'raise_amount' is not defined",
     "output_type": "error",
     "traceback": [
      "\u001b[1;31m---------------------------------------------------------------------------\u001b[0m",
      "\u001b[1;31mNameError\u001b[0m                                 Traceback (most recent call last)",
      "\u001b[1;32m<ipython-input-10-c7ed82d854f7>\u001b[0m in \u001b[0;36m<module>\u001b[1;34m\u001b[0m\n\u001b[0;32m     17\u001b[0m \u001b[1;33m\u001b[0m\u001b[0m\n\u001b[0;32m     18\u001b[0m \u001b[0mprint\u001b[0m \u001b[1;33m(\u001b[0m\u001b[0memp_1\u001b[0m\u001b[1;33m.\u001b[0m\u001b[0mpay\u001b[0m\u001b[1;33m)\u001b[0m\u001b[1;33m\u001b[0m\u001b[1;33m\u001b[0m\u001b[0m\n\u001b[1;32m---> 19\u001b[1;33m \u001b[0memp_1\u001b[0m\u001b[1;33m.\u001b[0m\u001b[0mapply_raise\u001b[0m\u001b[1;33m(\u001b[0m\u001b[1;33m)\u001b[0m\u001b[1;33m\u001b[0m\u001b[1;33m\u001b[0m\u001b[0m\n\u001b[0m\u001b[0;32m     20\u001b[0m \u001b[0mprint\u001b[0m \u001b[1;33m(\u001b[0m\u001b[0memp_1\u001b[0m\u001b[1;33m.\u001b[0m\u001b[0mpay\u001b[0m\u001b[1;33m)\u001b[0m\u001b[1;33m\u001b[0m\u001b[1;33m\u001b[0m\u001b[0m\n",
      "\u001b[1;32m<ipython-input-10-c7ed82d854f7>\u001b[0m in \u001b[0;36mapply_raise\u001b[1;34m(self)\u001b[0m\n\u001b[0;32m     11\u001b[0m \u001b[1;33m\u001b[0m\u001b[0m\n\u001b[0;32m     12\u001b[0m     \u001b[1;32mdef\u001b[0m \u001b[0mapply_raise\u001b[0m\u001b[1;33m(\u001b[0m\u001b[0mself\u001b[0m\u001b[1;33m)\u001b[0m\u001b[1;33m:\u001b[0m\u001b[1;33m\u001b[0m\u001b[1;33m\u001b[0m\u001b[0m\n\u001b[1;32m---> 13\u001b[1;33m         \u001b[0mself\u001b[0m\u001b[1;33m.\u001b[0m\u001b[0mpay\u001b[0m \u001b[1;33m=\u001b[0m \u001b[0mint\u001b[0m\u001b[1;33m(\u001b[0m\u001b[0mself\u001b[0m\u001b[1;33m.\u001b[0m\u001b[0mpay\u001b[0m \u001b[1;33m*\u001b[0m \u001b[0mraise_amount\u001b[0m\u001b[1;33m)\u001b[0m\u001b[1;33m\u001b[0m\u001b[1;33m\u001b[0m\u001b[0m\n\u001b[0m\u001b[0;32m     14\u001b[0m \u001b[1;33m\u001b[0m\u001b[0m\n\u001b[0;32m     15\u001b[0m \u001b[0memp_1\u001b[0m \u001b[1;33m=\u001b[0m \u001b[0mEmployee\u001b[0m\u001b[1;33m(\u001b[0m\u001b[1;34m'Sanghee'\u001b[0m\u001b[1;33m,\u001b[0m \u001b[1;34m'Lee'\u001b[0m\u001b[1;33m,\u001b[0m \u001b[1;36m50000\u001b[0m\u001b[1;33m)\u001b[0m\u001b[1;33m\u001b[0m\u001b[1;33m\u001b[0m\u001b[0m\n",
      "\u001b[1;31mNameError\u001b[0m: name 'raise_amount' is not defined"
     ]
    }
   ],
   "source": [
    "class Employee(object):\n",
    "    \n",
    "    raise_amount = 1.1\n",
    "    \n",
    "    def __init__(self, first, last, pay):\n",
    "        self.first = first\n",
    "        self.last = last\n",
    "        self.pay = pay\n",
    "        self.email = first.lower() + '.' + last.lower() + '@schoolofweb.net'\n",
    "        \n",
    "    def full_name(self):\n",
    "        return '{} {}'.format(self.first, self.last)\n",
    "    \n",
    "    def apply_raise(self):\n",
    "        self.pay = int(self.pay * raise_amount)\n",
    "\n",
    "emp_1 = Employee('Sanghee', 'Lee', 50000)\n",
    "emp_2 = Employee(\"minjung\", 'kim', 60000)\n",
    "\n",
    "print (emp_1.pay)\n",
    "emp_1.apply_raise()\n",
    "print (emp_1.pay)"
   ]
  },
  {
   "cell_type": "code",
   "execution_count": 16,
   "metadata": {},
   "outputs": [
    {
     "name": "stdout",
     "output_type": "stream",
     "text": [
      "{'first': 'Sanghee', 'last': 'Lee', 'pay': 50000, 'email': 'sanghee.lee@schoolofweb.net'}\n",
      "{'__module__': '__main__', 'raise_amount': 1.1, '__init__': <function Employee.__init__ at 0x0000012ECE32D8B8>, 'full_name': <function Employee.full_name at 0x0000012ECE32D948>, 'apply_raise': <function Employee.apply_raise at 0x0000012ECE32D9D8>, '__dict__': <attribute '__dict__' of 'Employee' objects>, '__weakref__': <attribute '__weakref__' of 'Employee' objects>, '__doc__': None}\n"
     ]
    }
   ],
   "source": [
    "class Employee(object):\n",
    "    \n",
    "    raise_amount = 1.1  #1 클래스 변수 정의\n",
    "    \n",
    "    def __init__(self, first, last, pay):\n",
    "        self.first = first\n",
    "        self.last = last\n",
    "        self.pay = pay\n",
    "        self.email = first.lower() + '.' + last.lower() + '@schoolofweb.net'\n",
    "        \n",
    "    def full_name(self):\n",
    "        return '{} {}'.format(self.first, self.last)\n",
    "    \n",
    "    def apply_raise(self):\n",
    "        self.pay = int(self.pay * self.raise_amount)  #2 클래스 변수 사용\n",
    "\n",
    "emp_1 = Employee('Sanghee', 'Lee', 50000)\n",
    "emp_2 = Employee('Minjung', 'Kim', 60000)\n",
    "emp_1.self.raise_amount = 1.2\n",
    "print (emp_1.__dict__)\n",
    "emp_1.apply_raise()  # 인상률 적용\n",
    "print (Employee.__dict__)  # 오른 연봉\n",
    "\n",
    "\n"
   ]
  },
  {
   "cell_type": "code",
   "execution_count": 22,
   "metadata": {},
   "outputs": [
    {
     "name": "stdout",
     "output_type": "stream",
     "text": [
      "인스턴스 네임스페이스에 있는 변수입니다.\n",
      "클래스 네임스페이스에 있는 변수입니다.\n",
      "수퍼 네임스페이스에 있는 변수입니다.\n",
      "클래스 네임스페이스에 있는 변수입니다.\n",
      "수퍼 네임스페이스에 있는 변수입니다.\n",
      "수퍼 네임스페이스에 있는 변수입니다.\n",
      "------------------------------\n",
      "class_var를 찾을 수가 없습니다...\n",
      "instance_var를 찾을 수가 없습니다...\n"
     ]
    }
   ],
   "source": [
    "class SuperClass(object):\n",
    "    super_var = '수퍼 네임스페이스에 있는 변수입니다.'\n",
    "    \n",
    "class MyClass(SuperClass):\n",
    "    class_var = '클래스 네임스페이스에 있는 변수입니다.'\n",
    "    def __init__(self):\n",
    "        self.instance_var = '인스턴스 네임스페이스에 있는 변수입니다.'\n",
    "    \n",
    "\n",
    "my_instance = MyClass()\n",
    "\n",
    "# 엑세스 가능한 경우\n",
    "print (my_instance.instance_var)\n",
    "print (my_instance.class_var)\n",
    "print (my_instance.super_var)\n",
    "print (MyClass.class_var)\n",
    "print (MyClass.super_var)\n",
    "print (SuperClass.super_var)\n",
    "print ('-'*30)\n",
    "\n",
    "# 엑세스 불가능한 경우\n",
    "try:\n",
    "    print (SuperClass.class_var)\n",
    "except:\n",
    "    print ('class_var를 찾을 수가 없습니다...')\n",
    "    \n",
    "try:\n",
    "    print (MyClass.instance_var)\n",
    "except:\n",
    "    print ('instance_var를 찾을 수가 없습니다...')\n"
   ]
  },
  {
   "cell_type": "code",
   "execution_count": 30,
   "metadata": {},
   "outputs": [
    {
     "name": "stdout",
     "output_type": "stream",
     "text": [
      "num :5\n",
      "list :[1]\n",
      "num :3\n",
      "list :[5, 6]\n"
     ]
    }
   ],
   "source": [
    "class Test:\n",
    "    num = 0\n",
    "    ar = []\n",
    "    def __init__(self):\n",
    "        self.ar = []\n",
    "#     t2.ar =[]\n",
    "    def show(self):\n",
    "        print ('num :' + str(self.num))\n",
    "        print ('list :' + str(self.ar))\n",
    "\n",
    "    def inc(self, n):\n",
    "        self.num = self.num + n\n",
    "\n",
    "    def inc_list(self, n):\n",
    "        \n",
    "        self.ar.append(n)\n",
    "\n",
    "\n",
    "t1 = Test()\n",
    "t2 = Test()\n",
    "\n",
    "t1.inc(2)\n",
    "t2.inc(3)\n",
    "t1.inc(3)\n",
    "\n",
    "t1.inc_list(1)\n",
    "t2.inc_list(5)\n",
    "t2.inc_list(6)\n",
    "\n",
    "t1.show()\n",
    "t2.show()\n",
    "\n",
    "# 출처: https://hamait.tistory.com/634 [HAMA 블로그]"
   ]
  }
 ],
 "metadata": {
  "kernelspec": {
   "display_name": "Python 3",
   "language": "python",
   "name": "python3"
  },
  "language_info": {
   "codemirror_mode": {
    "name": "ipython",
    "version": 3
   },
   "file_extension": ".py",
   "mimetype": "text/x-python",
   "name": "python",
   "nbconvert_exporter": "python",
   "pygments_lexer": "ipython3",
   "version": "3.7.6"
  }
 },
 "nbformat": 4,
 "nbformat_minor": 4
}
