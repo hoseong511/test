{
 "cells": [
  {
   "cell_type": "code",
   "execution_count": 3,
   "metadata": {},
   "outputs": [
    {
     "name": "stdout",
     "output_type": "stream",
     "text": [
      "3103500\n",
      "35248.91490376756\n",
      "3103500\n",
      "35248.91490376756\n",
      "3103500\n",
      "35248.91490376756\n",
      "3103500\n",
      "35248.91490376756\n",
      "3103500\n",
      "35248.91490376756\n",
      "3103500\n",
      "35248.91490376756\n",
      "3103500\n",
      "35248.91490376756\n",
      "3103500\n",
      "35248.91490376756\n",
      "275 ms ± 6.36 ms per loop (mean ± std. dev. of 7 runs, 1 loop each)\n"
     ]
    }
   ],
   "source": [
    "%%timeit\n",
    "import pandas as pd\n",
    "\n",
    "customerData = pd.read_csv(\"./dataset/kopo_customerdata.csv\")\n",
    "customerTotalList = customerData[\"TOTAL_AMOUNT\"].tolist()\n",
    "\n",
    "\n",
    "# 리스트 최대값 최소값\n",
    "totalListMax = max(customerTotalList)\n",
    "totalListMin = min(customerTotalList)\n",
    "\n",
    "# 최대값 최소값 수\n",
    "totalMaxCount = customerTotalList.count(totalListMax) \n",
    "totalMinCount = customerTotalList.count(totalListMin)\n",
    "print(totalListMax)\n",
    "\n",
    "\n",
    "# 평균 = (총 합 - (최대값*최대값 수) - (최소값*최소값 수)) / \n",
    "#          (총 개수 - 최대값 수- 최솟값 수)\n",
    "avg = (sum(customerTotalList)-(totalListMax * totalMaxCount)-(totalListMin * totalMinCount)) /\\\n",
    "        (len(customerTotalList)-totalMaxCount-totalMinCount)\n",
    "\n",
    "print(avg)"
   ]
  },
  {
   "cell_type": "code",
   "execution_count": 4,
   "metadata": {},
   "outputs": [
    {
     "name": "stdout",
     "output_type": "stream",
     "text": [
      "35248.91490376756\n",
      "35248.91490376756\n",
      "35248.91490376756\n",
      "35248.91490376756\n",
      "35248.91490376756\n",
      "35248.91490376756\n",
      "35248.91490376756\n",
      "35248.91490376756\n",
      "358 ms ± 13.4 ms per loop (mean ± std. dev. of 7 runs, 1 loop each)\n"
     ]
    }
   ],
   "source": [
    "%%timeit\n",
    "import pandas as pd\n",
    "\n",
    "customerData = pd.read_csv(\"./dataset/kopo_customerdata.csv\")\n",
    "customerTotalList = customerData[\"TOTAL_AMOUNT\"].tolist()\n",
    "\n",
    "customerTotalList.sort()\n",
    "\n",
    "\n",
    "# 리스트 최대값 최소값\n",
    "totalListMax = max(customerTotalList)\n",
    "totalListMin = min(customerTotalList)\n",
    "\n",
    "# 최대값 최소값 수\n",
    "totalMaxCount = customerTotalList.count(totalListMax) \n",
    "totalMinCount = customerTotalList.count(totalListMin)\n",
    "\n",
    "\n",
    "customerTotalList[:totalMinCount] = []            # 반복문 while for 이용가능\n",
    "customerTotalList[-totalMaxCount:]=[]\n",
    "avg = sum(customerTotalList) / len(customerTotalList)\n",
    "print(avg)\n",
    "\n"
   ]
  }
 ],
 "metadata": {
  "kernelspec": {
   "display_name": "Python 3",
   "language": "python",
   "name": "python3"
  },
  "language_info": {
   "codemirror_mode": {
    "name": "ipython",
    "version": 3
   },
   "file_extension": ".py",
   "mimetype": "text/x-python",
   "name": "python",
   "nbconvert_exporter": "python",
   "pygments_lexer": "ipython3",
   "version": "3.7.6"
  }
 },
 "nbformat": 4,
 "nbformat_minor": 4
}
