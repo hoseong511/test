{
 "cells": [
  {
   "cell_type": "markdown",
   "metadata": {},
   "source": [
    "# 문제"
   ]
  },
  {
   "cell_type": "code",
   "execution_count": 7,
   "metadata": {},
   "outputs": [
    {
     "data": {
      "text/plain": [
       "9.1"
      ]
     },
     "execution_count": 7,
     "metadata": {},
     "output_type": "execute_result"
    }
   ],
   "source": [
    "hours = 9.1\n",
    "minutes =45.2\n",
    "\n",
    "answer = hours + minutes\n",
    "answer2 = hours / minutes\n",
    "answer3 = hours % minutes\n",
    "answer3"
   ]
  },
  {
   "cell_type": "code",
   "execution_count": 5,
   "metadata": {},
   "outputs": [
    {
     "data": {
      "text/plain": [
       "78"
      ]
     },
     "execution_count": 5,
     "metadata": {},
     "output_type": "execute_result"
    }
   ],
   "source": [
    "import datetime as dt #datetime 이라는 라이브러리를 가져온 후 dt로 별칭을 지어준다\n",
    "currentDate = dt.datetime.now() #datetime이라는 객체를 가져온다 . 이후 now라는 함수를 가져옴을 표현\n",
    "\n",
    "answer = currentDate.hour + currentDate.minute\n",
    "answer"
   ]
  },
  {
   "cell_type": "code",
   "execution_count": 6,
   "metadata": {},
   "outputs": [
    {
     "data": {
      "text/plain": [
       "78"
      ]
     },
     "execution_count": 6,
     "metadata": {},
     "output_type": "execute_result"
    }
   ],
   "source": [
    "answer = currentDate.hour+\\\n",
    "currentDate.minute # 줄바꿈 !! 찾아보기\n",
    "\n",
    "answer"
   ]
  },
  {
   "cell_type": "code",
   "execution_count": 7,
   "metadata": {},
   "outputs": [
    {
     "name": "stdout",
     "output_type": "stream",
     "text": [
      "********************\n",
      "4\n"
     ]
    },
    {
     "data": {
      "text/plain": [
       "'03'"
      ]
     },
     "execution_count": 7,
     "metadata": {},
     "output_type": "execute_result"
    }
   ],
   "source": [
    "preFix = \"smart\"\n",
    "word = \"analytics\"\n",
    "\n",
    "print('*' *20)\n",
    "\n",
    "yearweek = \"2020W03\"\n",
    "\n",
    "int(yearweek[5:])\n",
    "\n",
    "\n",
    "print(yearweek.index(\"W\"))\n",
    "yearweekList = yearweek.split('W')\n",
    "yearweekList[1]"
   ]
  },
  {
   "cell_type": "markdown",
   "metadata": {},
   "source": [
    "# 실습문제 1,2"
   ]
  },
  {
   "cell_type": "code",
   "execution_count": 9,
   "metadata": {},
   "outputs": [
    {
     "name": "stdout",
     "output_type": "stream",
     "text": [
      "SEC\n",
      "20180212\n",
      "250\n"
     ]
    }
   ],
   "source": [
    "strValue = \"SEC 20180212 250\"\n",
    "a = 3\n",
    "\n",
    "stock_name = strValue[:3]        #이런것을 하드코딩이라 함 코드 내 숫자가 바로 들어가는 유형\n",
    "date = strValue[4:-4]\n",
    "value = strValue[-3:]\n",
    "\n",
    "print(stock_name)\n",
    "print(date)\n",
    "print(value)"
   ]
  },
  {
   "cell_type": "code",
   "execution_count": 10,
   "metadata": {},
   "outputs": [
    {
     "name": "stdout",
     "output_type": "stream",
     "text": [
      "SEC 2018W28 250\n",
      "SEC\n",
      "201828\n",
      "250\n"
     ]
    }
   ],
   "source": [
    "strValue2 = \"Sec 2018W28 250\"\n",
    "\n",
    "strValue2_up = strValue2.upper()\n",
    "print(strValue2_up)\n",
    "\n",
    "strValue2_up = strValue2_up.replace(\"W\",\"\")\n",
    "stock_name = strValue2_up[:3]\n",
    "date = strValue2_up[4:-4]\n",
    "value = strValue2_up[-3:]\n",
    "\n",
    "print(stock_name)\n",
    "print(date)\n",
    "print(value)"
   ]
  },
  {
   "cell_type": "code",
   "execution_count": 11,
   "metadata": {},
   "outputs": [
    {
     "name": "stdout",
     "output_type": "stream",
     "text": [
      "SEC\n"
     ]
    }
   ],
   "source": [
    "strValue3 = \"Sec 2018W28 250\"\n",
    "strValue3_up = strValue3.upper()\n",
    "strValue3_up = strValue3_up.split(\" \")\n",
    "\n",
    "\n",
    "stock_name = strValue3_up[0]\n",
    "date = strValue3_up[1]\n",
    "value = strValue3_up[2]\n",
    "\n",
    "print(stock_name)"
   ]
  },
  {
   "cell_type": "code",
   "execution_count": 12,
   "metadata": {},
   "outputs": [
    {
     "name": "stdout",
     "output_type": "stream",
     "text": [
      "SEC \n",
      " 201828 \n",
      " 250\n",
      "201828\n",
      "250\n"
     ]
    }
   ],
   "source": [
    "string = \"Sec 2018W28 250\"\n",
    "\n",
    "stringList = string.upper().replace(\"W\",\"\").split(\" \")\n",
    "\n",
    "stock_name =stringList[0]\n",
    "date = stringList[1]\n",
    "value = stringList[2]\n",
    "\n",
    "print(stock_name,\"\\n\",date,\"\\n\",value)\n",
    "print(date)\n",
    "print(value)"
   ]
  },
  {
   "cell_type": "markdown",
   "metadata": {},
   "source": [
    "# 실습3"
   ]
  },
  {
   "cell_type": "code",
   "execution_count": null,
   "metadata": {},
   "outputs": [],
   "source": [
    "# numberClear = number.remove(120) x -> list.remove(숫자) 값을 다시 지정하는것이 아닌 행위를 함"
   ]
  },
  {
   "cell_type": "code",
   "execution_count": 7,
   "metadata": {},
   "outputs": [
    {
     "name": "stdout",
     "output_type": "stream",
     "text": [
      "414.0\n"
     ]
    }
   ],
   "source": [
    "valueList = [120,150,300,500,1000,100,2000]\n",
    "\n",
    "valueListMax = max(valueList)\n",
    "valueListMin = min(valueList)\n",
    "valueListMaxCount = valueList.count(valueListMax)\n",
    "valueListMinCount = valueList.count(valueListMin)\n",
    "\n",
    "# 평균 = (전체 sum - 최대값 * 최대값 개수 - 최소값 *최소값 개수) / \n",
    "#              (리스트 개수 - 최대값 개수 - 최소값 개수)\n",
    "avg = (sum(valueList)-valueListMax*valueListMaxCount-valueListMin*valueListMinCount)/\\\n",
    "(len(valueList)-valueListMinCount-valueListMinCount)\n",
    "\n",
    "print(avg)"
   ]
  }
 ],
 "metadata": {
  "kernelspec": {
   "display_name": "Python 3",
   "language": "python",
   "name": "python3"
  },
  "language_info": {
   "codemirror_mode": {
    "name": "ipython",
    "version": 3
   },
   "file_extension": ".py",
   "mimetype": "text/x-python",
   "name": "python",
   "nbconvert_exporter": "python",
   "pygments_lexer": "ipython3",
   "version": "3.7.6"
  }
 },
 "nbformat": 4,
 "nbformat_minor": 4
}
