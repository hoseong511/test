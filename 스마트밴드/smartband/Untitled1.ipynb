{
 "cells": [
  {
   "cell_type": "code",
   "execution_count": 1,
   "metadata": {},
   "outputs": [],
   "source": [
    "import bs4,time,pyperclip\n",
    "import pandas as pd\n",
    "from selenium import webdriver\n",
    "from selenium.webdriver.support.ui import WebDriverWait\n",
    "from selenium.webdriver.support import expected_conditions\n",
    "from selenium.webdriver.common.by import By\n",
    "from selenium.webdriver.common.keys import Keys\n",
    "\n"
   ]
  },
  {
   "cell_type": "code",
   "execution_count": 5,
   "metadata": {},
   "outputs": [
    {
     "name": "stdout",
     "output_type": "stream",
     "text": [
      "<selenium.webdriver.remote.webelement.WebElement (session=\"46af06719bf4598dcc943f890e9c43e7\", element=\"0653ba3f-7c95-412a-bfb1-8faaf3dd5ca8\")>\n"
     ]
    }
   ],
   "source": [
    "driver_loc = \"./chromedriver.exe\"\n",
    "options = webdriver.ChromeOptions()\n",
    "options.add_argument(\"window-size = 1920x1080\")\n",
    "driver = webdriver.Chrome(driver_loc, options = options)\n",
    "driver.maximize_window()\n",
    "url = 'http://www.enuri.com/'\n",
    "driver.get(url)\n",
    "time.sleep(1.5)\n",
    "\n",
    "iframes = driver.find_element_by_tag_name(\"iframe\")\n",
    "\n",
    "print(iframes)\n",
    "driver.switch_to_default_content # 처음 iframe을 걷어내고 찾아야함\n",
    "\n",
    "\n",
    "tag = driver.find_element_by_xpath('//*[@id=\"gnbMenu\"]/li[4]/a')\n",
    "tag.click()\n",
    "\n",
    "search_tag_sub1 = driver.find_element_by_xpath('//*[@id=\"first_depth3\"]/li[7]/p')\n",
    "search_tag_sub2\n",
    "\n",
    "\n",
    "# for iframe in iframes:\n",
    "#     print(iframe.get_attribute(\"name\"))"
   ]
  }
 ],
 "metadata": {
  "kernelspec": {
   "display_name": "Python 3",
   "language": "python",
   "name": "python3"
  },
  "language_info": {
   "codemirror_mode": {
    "name": "ipython",
    "version": 3
   },
   "file_extension": ".py",
   "mimetype": "text/x-python",
   "name": "python",
   "nbconvert_exporter": "python",
   "pygments_lexer": "ipython3",
   "version": "3.7.6"
  }
 },
 "nbformat": 4,
 "nbformat_minor": 4
}
